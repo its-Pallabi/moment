{
  "nbformat": 4,
  "nbformat_minor": 0,
  "metadata": {
    "colab": {
      "provenance": []
    },
    "kernelspec": {
      "name": "python3",
      "display_name": "Python 3"
    },
    "language_info": {
      "name": "python"
    }
  },
  "cells": [
    {
      "cell_type": "code",
      "execution_count": null,
      "metadata": {
        "id": "E1U7vCGk-asj"
      },
      "outputs": [],
      "source": [
        "\n",
        "import numpy as np\n",
        "import pandas as pd\n",
        "import sklearn\n",
        "from sklearn import linear_model\n",
        "from sklearn import metrics\n",
        "from sklearn import preprocessing\n",
        "\n",
        "import rpy2\n",
        "import matplotlib\n",
        "import matplotlib.pyplot as plt\n",
        "import seaborn as sns\n",
        "plt.style.use('ggplot')\n",
        "import statsmodels.api as sm"
      ]
    },
    {
      "cell_type": "code",
      "source": [
        "df=pd.read_csv('forecasting_Air_pollution1.csv')\n",
        "df.head()\n",
        "print(df.isnull().sum())"
      ],
      "metadata": {
        "colab": {
          "base_uri": "https://localhost:8080/"
        },
        "id": "rp-ckwqLBEZb",
        "outputId": "35f68c26-9968-4d06-bc40-06467baa1d0c"
      },
      "execution_count": null,
      "outputs": [
        {
          "output_type": "stream",
          "name": "stdout",
          "text": [
            "date         0\n",
            "dew          0\n",
            "temp         0\n",
            "press        0\n",
            "wnd_spd      0\n",
            "snow         0\n",
            "rain         0\n",
            "pollution    0\n",
            "dtype: int64\n"
          ]
        }
      ]
    },
    {
      "cell_type": "code",
      "source": [
        "df.duplicated().sum()"
      ],
      "metadata": {
        "colab": {
          "base_uri": "https://localhost:8080/"
        },
        "id": "4n4mU_pJXmdv",
        "outputId": "235833e0-da75-47fe-90d4-83ba04118997"
      },
      "execution_count": null,
      "outputs": [
        {
          "output_type": "execute_result",
          "data": {
            "text/plain": [
              "0"
            ]
          },
          "metadata": {},
          "execution_count": 5
        }
      ]
    },
    {
      "cell_type": "code",
      "source": [
        "\n",
        "\n",
        "# Check for duplicates\n"
      ],
      "metadata": {
        "id": "CdSSIAq7XmIK"
      },
      "execution_count": null,
      "outputs": []
    },
    {
      "cell_type": "code",
      "source": [
        "df['Date']=pd.to_datetime(df['date'],format='%d-%m-%Y %H:%M')\n",
        "\n",
        "df.head()\n"
      ],
      "metadata": {
        "colab": {
          "base_uri": "https://localhost:8080/",
          "height": 206
        },
        "id": "SdE9R4ZiBBdb",
        "outputId": "35207f68-bd53-4277-8186-78a39737f48e"
      },
      "execution_count": null,
      "outputs": [
        {
          "output_type": "execute_result",
          "data": {
            "text/plain": [
              "               date  dew  temp   press  wnd_spd  snow  rain  pollution  \\\n",
              "0  02-01-2010 00:00  -16  -4.0  1020.0     1.79     0     0        129   \n",
              "1  02-01-2010 01:00  -15  -4.0  1020.0     2.68     0     0        148   \n",
              "2  02-01-2010 02:00  -11  -5.0  1021.0     3.57     0     0        159   \n",
              "3  02-01-2010 03:00   -7  -5.0  1022.0     5.36     1     0        181   \n",
              "4  02-01-2010 04:00   -7  -5.0  1022.0     6.25     2     0        138   \n",
              "\n",
              "                 Date  \n",
              "0 2010-01-02 00:00:00  \n",
              "1 2010-01-02 01:00:00  \n",
              "2 2010-01-02 02:00:00  \n",
              "3 2010-01-02 03:00:00  \n",
              "4 2010-01-02 04:00:00  "
            ],
            "text/html": [
              "\n",
              "  <div id=\"df-3eb4a5ce-cad9-4b3b-973c-b6df9592d460\" class=\"colab-df-container\">\n",
              "    <div>\n",
              "<style scoped>\n",
              "    .dataframe tbody tr th:only-of-type {\n",
              "        vertical-align: middle;\n",
              "    }\n",
              "\n",
              "    .dataframe tbody tr th {\n",
              "        vertical-align: top;\n",
              "    }\n",
              "\n",
              "    .dataframe thead th {\n",
              "        text-align: right;\n",
              "    }\n",
              "</style>\n",
              "<table border=\"1\" class=\"dataframe\">\n",
              "  <thead>\n",
              "    <tr style=\"text-align: right;\">\n",
              "      <th></th>\n",
              "      <th>date</th>\n",
              "      <th>dew</th>\n",
              "      <th>temp</th>\n",
              "      <th>press</th>\n",
              "      <th>wnd_spd</th>\n",
              "      <th>snow</th>\n",
              "      <th>rain</th>\n",
              "      <th>pollution</th>\n",
              "      <th>Date</th>\n",
              "    </tr>\n",
              "  </thead>\n",
              "  <tbody>\n",
              "    <tr>\n",
              "      <th>0</th>\n",
              "      <td>02-01-2010 00:00</td>\n",
              "      <td>-16</td>\n",
              "      <td>-4.0</td>\n",
              "      <td>1020.0</td>\n",
              "      <td>1.79</td>\n",
              "      <td>0</td>\n",
              "      <td>0</td>\n",
              "      <td>129</td>\n",
              "      <td>2010-01-02 00:00:00</td>\n",
              "    </tr>\n",
              "    <tr>\n",
              "      <th>1</th>\n",
              "      <td>02-01-2010 01:00</td>\n",
              "      <td>-15</td>\n",
              "      <td>-4.0</td>\n",
              "      <td>1020.0</td>\n",
              "      <td>2.68</td>\n",
              "      <td>0</td>\n",
              "      <td>0</td>\n",
              "      <td>148</td>\n",
              "      <td>2010-01-02 01:00:00</td>\n",
              "    </tr>\n",
              "    <tr>\n",
              "      <th>2</th>\n",
              "      <td>02-01-2010 02:00</td>\n",
              "      <td>-11</td>\n",
              "      <td>-5.0</td>\n",
              "      <td>1021.0</td>\n",
              "      <td>3.57</td>\n",
              "      <td>0</td>\n",
              "      <td>0</td>\n",
              "      <td>159</td>\n",
              "      <td>2010-01-02 02:00:00</td>\n",
              "    </tr>\n",
              "    <tr>\n",
              "      <th>3</th>\n",
              "      <td>02-01-2010 03:00</td>\n",
              "      <td>-7</td>\n",
              "      <td>-5.0</td>\n",
              "      <td>1022.0</td>\n",
              "      <td>5.36</td>\n",
              "      <td>1</td>\n",
              "      <td>0</td>\n",
              "      <td>181</td>\n",
              "      <td>2010-01-02 03:00:00</td>\n",
              "    </tr>\n",
              "    <tr>\n",
              "      <th>4</th>\n",
              "      <td>02-01-2010 04:00</td>\n",
              "      <td>-7</td>\n",
              "      <td>-5.0</td>\n",
              "      <td>1022.0</td>\n",
              "      <td>6.25</td>\n",
              "      <td>2</td>\n",
              "      <td>0</td>\n",
              "      <td>138</td>\n",
              "      <td>2010-01-02 04:00:00</td>\n",
              "    </tr>\n",
              "  </tbody>\n",
              "</table>\n",
              "</div>\n",
              "    <div class=\"colab-df-buttons\">\n",
              "\n",
              "  <div class=\"colab-df-container\">\n",
              "    <button class=\"colab-df-convert\" onclick=\"convertToInteractive('df-3eb4a5ce-cad9-4b3b-973c-b6df9592d460')\"\n",
              "            title=\"Convert this dataframe to an interactive table.\"\n",
              "            style=\"display:none;\">\n",
              "\n",
              "  <svg xmlns=\"http://www.w3.org/2000/svg\" height=\"24px\" viewBox=\"0 -960 960 960\">\n",
              "    <path d=\"M120-120v-720h720v720H120Zm60-500h600v-160H180v160Zm220 220h160v-160H400v160Zm0 220h160v-160H400v160ZM180-400h160v-160H180v160Zm440 0h160v-160H620v160ZM180-180h160v-160H180v160Zm440 0h160v-160H620v160Z\"/>\n",
              "  </svg>\n",
              "    </button>\n",
              "\n",
              "  <style>\n",
              "    .colab-df-container {\n",
              "      display:flex;\n",
              "      gap: 12px;\n",
              "    }\n",
              "\n",
              "    .colab-df-convert {\n",
              "      background-color: #E8F0FE;\n",
              "      border: none;\n",
              "      border-radius: 50%;\n",
              "      cursor: pointer;\n",
              "      display: none;\n",
              "      fill: #1967D2;\n",
              "      height: 32px;\n",
              "      padding: 0 0 0 0;\n",
              "      width: 32px;\n",
              "    }\n",
              "\n",
              "    .colab-df-convert:hover {\n",
              "      background-color: #E2EBFA;\n",
              "      box-shadow: 0px 1px 2px rgba(60, 64, 67, 0.3), 0px 1px 3px 1px rgba(60, 64, 67, 0.15);\n",
              "      fill: #174EA6;\n",
              "    }\n",
              "\n",
              "    .colab-df-buttons div {\n",
              "      margin-bottom: 4px;\n",
              "    }\n",
              "\n",
              "    [theme=dark] .colab-df-convert {\n",
              "      background-color: #3B4455;\n",
              "      fill: #D2E3FC;\n",
              "    }\n",
              "\n",
              "    [theme=dark] .colab-df-convert:hover {\n",
              "      background-color: #434B5C;\n",
              "      box-shadow: 0px 1px 3px 1px rgba(0, 0, 0, 0.15);\n",
              "      filter: drop-shadow(0px 1px 2px rgba(0, 0, 0, 0.3));\n",
              "      fill: #FFFFFF;\n",
              "    }\n",
              "  </style>\n",
              "\n",
              "    <script>\n",
              "      const buttonEl =\n",
              "        document.querySelector('#df-3eb4a5ce-cad9-4b3b-973c-b6df9592d460 button.colab-df-convert');\n",
              "      buttonEl.style.display =\n",
              "        google.colab.kernel.accessAllowed ? 'block' : 'none';\n",
              "\n",
              "      async function convertToInteractive(key) {\n",
              "        const element = document.querySelector('#df-3eb4a5ce-cad9-4b3b-973c-b6df9592d460');\n",
              "        const dataTable =\n",
              "          await google.colab.kernel.invokeFunction('convertToInteractive',\n",
              "                                                    [key], {});\n",
              "        if (!dataTable) return;\n",
              "\n",
              "        const docLinkHtml = 'Like what you see? Visit the ' +\n",
              "          '<a target=\"_blank\" href=https://colab.research.google.com/notebooks/data_table.ipynb>data table notebook</a>'\n",
              "          + ' to learn more about interactive tables.';\n",
              "        element.innerHTML = '';\n",
              "        dataTable['output_type'] = 'display_data';\n",
              "        await google.colab.output.renderOutput(dataTable, element);\n",
              "        const docLink = document.createElement('div');\n",
              "        docLink.innerHTML = docLinkHtml;\n",
              "        element.appendChild(docLink);\n",
              "      }\n",
              "    </script>\n",
              "  </div>\n",
              "\n",
              "\n",
              "<div id=\"df-a843d391-f986-4348-93f8-d09e43463df6\">\n",
              "  <button class=\"colab-df-quickchart\" onclick=\"quickchart('df-a843d391-f986-4348-93f8-d09e43463df6')\"\n",
              "            title=\"Suggest charts\"\n",
              "            style=\"display:none;\">\n",
              "\n",
              "<svg xmlns=\"http://www.w3.org/2000/svg\" height=\"24px\"viewBox=\"0 0 24 24\"\n",
              "     width=\"24px\">\n",
              "    <g>\n",
              "        <path d=\"M19 3H5c-1.1 0-2 .9-2 2v14c0 1.1.9 2 2 2h14c1.1 0 2-.9 2-2V5c0-1.1-.9-2-2-2zM9 17H7v-7h2v7zm4 0h-2V7h2v10zm4 0h-2v-4h2v4z\"/>\n",
              "    </g>\n",
              "</svg>\n",
              "  </button>\n",
              "\n",
              "<style>\n",
              "  .colab-df-quickchart {\n",
              "      --bg-color: #E8F0FE;\n",
              "      --fill-color: #1967D2;\n",
              "      --hover-bg-color: #E2EBFA;\n",
              "      --hover-fill-color: #174EA6;\n",
              "      --disabled-fill-color: #AAA;\n",
              "      --disabled-bg-color: #DDD;\n",
              "  }\n",
              "\n",
              "  [theme=dark] .colab-df-quickchart {\n",
              "      --bg-color: #3B4455;\n",
              "      --fill-color: #D2E3FC;\n",
              "      --hover-bg-color: #434B5C;\n",
              "      --hover-fill-color: #FFFFFF;\n",
              "      --disabled-bg-color: #3B4455;\n",
              "      --disabled-fill-color: #666;\n",
              "  }\n",
              "\n",
              "  .colab-df-quickchart {\n",
              "    background-color: var(--bg-color);\n",
              "    border: none;\n",
              "    border-radius: 50%;\n",
              "    cursor: pointer;\n",
              "    display: none;\n",
              "    fill: var(--fill-color);\n",
              "    height: 32px;\n",
              "    padding: 0;\n",
              "    width: 32px;\n",
              "  }\n",
              "\n",
              "  .colab-df-quickchart:hover {\n",
              "    background-color: var(--hover-bg-color);\n",
              "    box-shadow: 0 1px 2px rgba(60, 64, 67, 0.3), 0 1px 3px 1px rgba(60, 64, 67, 0.15);\n",
              "    fill: var(--button-hover-fill-color);\n",
              "  }\n",
              "\n",
              "  .colab-df-quickchart-complete:disabled,\n",
              "  .colab-df-quickchart-complete:disabled:hover {\n",
              "    background-color: var(--disabled-bg-color);\n",
              "    fill: var(--disabled-fill-color);\n",
              "    box-shadow: none;\n",
              "  }\n",
              "\n",
              "  .colab-df-spinner {\n",
              "    border: 2px solid var(--fill-color);\n",
              "    border-color: transparent;\n",
              "    border-bottom-color: var(--fill-color);\n",
              "    animation:\n",
              "      spin 1s steps(1) infinite;\n",
              "  }\n",
              "\n",
              "  @keyframes spin {\n",
              "    0% {\n",
              "      border-color: transparent;\n",
              "      border-bottom-color: var(--fill-color);\n",
              "      border-left-color: var(--fill-color);\n",
              "    }\n",
              "    20% {\n",
              "      border-color: transparent;\n",
              "      border-left-color: var(--fill-color);\n",
              "      border-top-color: var(--fill-color);\n",
              "    }\n",
              "    30% {\n",
              "      border-color: transparent;\n",
              "      border-left-color: var(--fill-color);\n",
              "      border-top-color: var(--fill-color);\n",
              "      border-right-color: var(--fill-color);\n",
              "    }\n",
              "    40% {\n",
              "      border-color: transparent;\n",
              "      border-right-color: var(--fill-color);\n",
              "      border-top-color: var(--fill-color);\n",
              "    }\n",
              "    60% {\n",
              "      border-color: transparent;\n",
              "      border-right-color: var(--fill-color);\n",
              "    }\n",
              "    80% {\n",
              "      border-color: transparent;\n",
              "      border-right-color: var(--fill-color);\n",
              "      border-bottom-color: var(--fill-color);\n",
              "    }\n",
              "    90% {\n",
              "      border-color: transparent;\n",
              "      border-bottom-color: var(--fill-color);\n",
              "    }\n",
              "  }\n",
              "</style>\n",
              "\n",
              "  <script>\n",
              "    async function quickchart(key) {\n",
              "      const quickchartButtonEl =\n",
              "        document.querySelector('#' + key + ' button');\n",
              "      quickchartButtonEl.disabled = true;  // To prevent multiple clicks.\n",
              "      quickchartButtonEl.classList.add('colab-df-spinner');\n",
              "      try {\n",
              "        const charts = await google.colab.kernel.invokeFunction(\n",
              "            'suggestCharts', [key], {});\n",
              "      } catch (error) {\n",
              "        console.error('Error during call to suggestCharts:', error);\n",
              "      }\n",
              "      quickchartButtonEl.classList.remove('colab-df-spinner');\n",
              "      quickchartButtonEl.classList.add('colab-df-quickchart-complete');\n",
              "    }\n",
              "    (() => {\n",
              "      let quickchartButtonEl =\n",
              "        document.querySelector('#df-a843d391-f986-4348-93f8-d09e43463df6 button');\n",
              "      quickchartButtonEl.style.display =\n",
              "        google.colab.kernel.accessAllowed ? 'block' : 'none';\n",
              "    })();\n",
              "  </script>\n",
              "</div>\n",
              "\n",
              "    </div>\n",
              "  </div>\n"
            ],
            "application/vnd.google.colaboratory.intrinsic+json": {
              "type": "dataframe",
              "variable_name": "df",
              "summary": "{\n  \"name\": \"df\",\n  \"rows\": 43800,\n  \"fields\": [\n    {\n      \"column\": \"date\",\n      \"properties\": {\n        \"dtype\": \"string\",\n        \"num_unique_values\": 43800,\n        \"samples\": [\n          \"17-03-2013 21:00\",\n          \"28-11-2012 18:00\",\n          \"09-04-2012 19:00\"\n        ],\n        \"semantic_type\": \"\",\n        \"description\": \"\"\n      }\n    },\n    {\n      \"column\": \"dew\",\n      \"properties\": {\n        \"dtype\": \"number\",\n        \"std\": 14,\n        \"min\": -40,\n        \"max\": 28,\n        \"num_unique_values\": 69,\n        \"samples\": [\n          -6,\n          -16,\n          20\n        ],\n        \"semantic_type\": \"\",\n        \"description\": \"\"\n      }\n    },\n    {\n      \"column\": \"temp\",\n      \"properties\": {\n        \"dtype\": \"number\",\n        \"std\": 12.193384145014077,\n        \"min\": -19.0,\n        \"max\": 42.0,\n        \"num_unique_values\": 64,\n        \"samples\": [\n          33.0,\n          39.0,\n          -4.0\n        ],\n        \"semantic_type\": \"\",\n        \"description\": \"\"\n      }\n    },\n    {\n      \"column\": \"press\",\n      \"properties\": {\n        \"dtype\": \"number\",\n        \"std\": 10.271411470532298,\n        \"min\": 991.0,\n        \"max\": 1046.0,\n        \"num_unique_values\": 60,\n        \"samples\": [\n          1020.0,\n          1025.0,\n          1002.0\n        ],\n        \"semantic_type\": \"\",\n        \"description\": \"\"\n      }\n    },\n    {\n      \"column\": \"wnd_spd\",\n      \"properties\": {\n        \"dtype\": \"number\",\n        \"std\": 50.022729033177576,\n        \"min\": 0.45,\n        \"max\": 585.6,\n        \"num_unique_values\": 2788,\n        \"samples\": [\n          78.21,\n          61.67,\n          88.95\n        ],\n        \"semantic_type\": \"\",\n        \"description\": \"\"\n      }\n    },\n    {\n      \"column\": \"snow\",\n      \"properties\": {\n        \"dtype\": \"number\",\n        \"std\": 0,\n        \"min\": 0,\n        \"max\": 27,\n        \"num_unique_values\": 28,\n        \"samples\": [\n          9,\n          27,\n          8\n        ],\n        \"semantic_type\": \"\",\n        \"description\": \"\"\n      }\n    },\n    {\n      \"column\": \"rain\",\n      \"properties\": {\n        \"dtype\": \"number\",\n        \"std\": 1,\n        \"min\": 0,\n        \"max\": 36,\n        \"num_unique_values\": 37,\n        \"samples\": [\n          17,\n          13,\n          4\n        ],\n        \"semantic_type\": \"\",\n        \"description\": \"\"\n      }\n    },\n    {\n      \"column\": \"pollution\",\n      \"properties\": {\n        \"dtype\": \"number\",\n        \"std\": 92,\n        \"min\": 0,\n        \"max\": 994,\n        \"num_unique_values\": 581,\n        \"samples\": [\n          483,\n          206,\n          165\n        ],\n        \"semantic_type\": \"\",\n        \"description\": \"\"\n      }\n    },\n    {\n      \"column\": \"Date\",\n      \"properties\": {\n        \"dtype\": \"date\",\n        \"min\": \"2010-01-02 00:00:00\",\n        \"max\": \"2014-12-31 23:00:00\",\n        \"num_unique_values\": 43800,\n        \"samples\": [\n          \"2013-03-17 21:00:00\",\n          \"2012-11-28 18:00:00\",\n          \"2012-04-09 19:00:00\"\n        ],\n        \"semantic_type\": \"\",\n        \"description\": \"\"\n      }\n    }\n  ]\n}"
            }
          },
          "metadata": {},
          "execution_count": 7
        }
      ]
    },
    {
      "cell_type": "code",
      "source": [
        "df.shape"
      ],
      "metadata": {
        "colab": {
          "base_uri": "https://localhost:8080/"
        },
        "id": "fQPwL77mMHPF",
        "outputId": "414a4331-2f6b-4e60-bd88-7144c861714d"
      },
      "execution_count": null,
      "outputs": [
        {
          "output_type": "execute_result",
          "data": {
            "text/plain": [
              "(43800, 9)"
            ]
          },
          "metadata": {},
          "execution_count": 8
        }
      ]
    },
    {
      "cell_type": "code",
      "source": [
        "df['year']=df.Date.dt.year\n",
        "df['month']=df.Date.dt.month"
      ],
      "metadata": {
        "id": "oYltfDIIGiN7"
      },
      "execution_count": null,
      "outputs": []
    },
    {
      "cell_type": "code",
      "source": [
        "df.set_index('date',inplace=True)\n",
        "pollution_data=df['pollution']"
      ],
      "metadata": {
        "id": "W4bPkDIKHlAb"
      },
      "execution_count": null,
      "outputs": []
    },
    {
      "cell_type": "code",
      "source": [
        "print(pollution_data.duplicated().sum())\n",
        "\n",
        "# Remove duplicates\n",
        "pollution_data = pollution_data.drop_duplicates()\n",
        "\n",
        "# Check again\n",
        "print(\"Number of duplicates after removal:\", pollution_data.duplicated().sum())"
      ],
      "metadata": {
        "colab": {
          "base_uri": "https://localhost:8080/"
        },
        "id": "XbAYu8e1YRe_",
        "outputId": "7cb939d5-eb00-493a-9b2c-90bb62aa0e2f"
      },
      "execution_count": null,
      "outputs": [
        {
          "output_type": "stream",
          "name": "stdout",
          "text": [
            "43219\n",
            "Number of duplicates after removal: 0\n"
          ]
        }
      ]
    },
    {
      "cell_type": "code",
      "source": [
        "pollution_data.head()"
      ],
      "metadata": {
        "colab": {
          "base_uri": "https://localhost:8080/"
        },
        "id": "aBoeROUmYmPC",
        "outputId": "a22d7a11-b624-4a11-e4dd-31b01ac04451"
      },
      "execution_count": null,
      "outputs": [
        {
          "output_type": "execute_result",
          "data": {
            "text/plain": [
              "date\n",
              "02-01-2010 00:00    129\n",
              "02-01-2010 01:00    148\n",
              "02-01-2010 02:00    159\n",
              "02-01-2010 03:00    181\n",
              "02-01-2010 04:00    138\n",
              "Name: pollution, dtype: int64"
            ]
          },
          "metadata": {},
          "execution_count": 11
        }
      ]
    },
    {
      "cell_type": "code",
      "source": [
        "plt.figure(figsize=(10, 10))\n",
        "plt.plot(pollution_data)\n",
        "plt.xlabel('Years')\n",
        "plt.ylabel('pollution')"
      ],
      "metadata": {
        "colab": {
          "base_uri": "https://localhost:8080/",
          "height": 755
        },
        "id": "cxK_LtfkIZ3m",
        "outputId": "70c340d5-2e86-497a-a1bc-ea0257a8f012"
      },
      "execution_count": null,
      "outputs": [
        {
          "output_type": "execute_result",
          "data": {
            "text/plain": [
              "Text(0, 0.5, 'pollution')"
            ]
          },
          "metadata": {},
          "execution_count": 95
        },
        {
          "output_type": "display_data",
          "data": {
            "text/plain": [
              "<Figure size 1000x1000 with 1 Axes>"
            ],
            "image/png": "[encoded data removed]"
          },
          "metadata": {}
        }
      ]
    },
    {
      "cell_type": "code",
      "source": [
        "from statsmodels.tsa.arima.model import ARIMA"
      ],
      "metadata": {
        "id": "WH49gUA7Kqkf"
      },
      "execution_count": null,
      "outputs": []
    },
    {
      "cell_type": "code",
      "source": [
        "pollution_data_log=np.log10(pollution_data)\n",
        "pollution_data_log"
      ],
      "metadata": {
        "colab": {
          "base_uri": "https://localhost:8080/"
        },
        "id": "j8JOqf-MKk-I",
        "outputId": "4e1a9611-9c8c-47f2-95ba-978809595add"
      },
      "execution_count": null,
      "outputs": [
        {
          "output_type": "stream",
          "name": "stderr",
          "text": [
            "/usr/local/lib/python3.10/dist-packages/pandas/core/arraylike.py:396: RuntimeWarning: divide by zero encountered in log10\n",
            "  result = getattr(ufunc, method)(*inputs, **kwargs)\n"
          ]
        },
        {
          "output_type": "execute_result",
          "data": {
            "text/plain": [
              "date\n",
              "02-01-2010 00:00    2.110590\n",
              "02-01-2010 01:00    2.170262\n",
              "02-01-2010 02:00    2.201397\n",
              "02-01-2010 03:00    2.257679\n",
              "02-01-2010 04:00    2.139879\n",
              "                      ...   \n",
              "31-12-2014 19:00    0.903090\n",
              "31-12-2014 20:00    1.000000\n",
              "31-12-2014 21:00    1.000000\n",
              "31-12-2014 22:00    0.903090\n",
              "31-12-2014 23:00    1.079181\n",
              "Name: pollution, Length: 43800, dtype: float64"
            ]
          },
          "metadata": {},
          "execution_count": 13
        }
      ]
    },
    {
      "cell_type": "code",
      "source": [
        "import numpy as np\n",
        "from sklearn.model_selection import train_test_split\n",
        "\n",
        "# Split the data into train and test sets\n",
        "# Adjust the test_size and random_state parameters as needed\n",
        "train_size = 0.8  # 80% train, 20% test\n",
        "pollution_data_log_train, pollution_data_log_test = train_test_split(pollution_data_log, train_size=train_size, shuffle=False)\n"
      ],
      "metadata": {
        "id": "Em2XuhuSeMo0"
      },
      "execution_count": null,
      "outputs": []
    },
    {
      "cell_type": "code",
      "source": [
        "print(pollution_data_log_train.head())\n"
      ],
      "metadata": {
        "colab": {
          "base_uri": "https://localhost:8080/"
        },
        "id": "FNfjlMXncqOH",
        "outputId": "6b760d1b-5427-4f98-d4d3-b408555eaa28"
      },
      "execution_count": null,
      "outputs": [
        {
          "output_type": "stream",
          "name": "stdout",
          "text": [
            "date\n",
            "02-01-2010 00:00    2.110590\n",
            "02-01-2010 01:00    2.170262\n",
            "02-01-2010 02:00    2.201397\n",
            "02-01-2010 03:00    2.257679\n",
            "02-01-2010 04:00    2.139879\n",
            "Name: pollution, dtype: float64\n"
          ]
        }
      ]
    },
    {
      "cell_type": "code",
      "source": [
        "print(pollution_data_log_test.head())"
      ],
      "metadata": {
        "colab": {
          "base_uri": "https://localhost:8080/"
        },
        "id": "87hCNd_kdWbc",
        "outputId": "781ac7fc-717f-474a-f04c-ae2bef47a3e4"
      },
      "execution_count": null,
      "outputs": [
        {
          "output_type": "stream",
          "name": "stdout",
          "text": [
            "date\n",
            "01-01-2014 00:00    1.380211\n",
            "01-01-2014 01:00    1.724276\n",
            "01-01-2014 02:00    1.812913\n",
            "01-01-2014 03:00    1.845098\n",
            "01-01-2014 04:00    1.897627\n",
            "Name: pollution, dtype: float64\n"
          ]
        }
      ]
    },
    {
      "cell_type": "code",
      "source": [
        "print(pollution_data_log_train.isnull().sum())  # Check for NaN values\n",
        "print(np.isfinite(pollution_data_log_train).all())"
      ],
      "metadata": {
        "colab": {
          "base_uri": "https://localhost:8080/"
        },
        "id": "G12nC_ihfaB7",
        "outputId": "819f31b9-ce3d-4bc8-a6b5-358a3a163a7a"
      },
      "execution_count": null,
      "outputs": [
        {
          "output_type": "stream",
          "name": "stdout",
          "text": [
            "0\n",
            "False\n"
          ]
        }
      ]
    },
    {
      "cell_type": "code",
      "source": [
        "non_finite_mask = ~np.isfinite(pollution_data_log_train)\n",
        "non_finite_positions = pollution_data_log_train.index[non_finite_mask]\n",
        "print(non_finite_positions)\n"
      ],
      "metadata": {
        "colab": {
          "base_uri": "https://localhost:8080/"
        },
        "id": "S5WXp4r9fnzC",
        "outputId": "e6332043-91bb-4bd2-a9c8-c16cdeea7501"
      },
      "execution_count": null,
      "outputs": [
        {
          "output_type": "stream",
          "name": "stdout",
          "text": [
            "Index(['23-01-2010 17:00'], dtype='object', name='date')\n"
          ]
        }
      ]
    },
    {
      "cell_type": "code",
      "source": [
        "import numpy as np\n",
        "import pandas as pd\n",
        "from statsmodels.tsa.arima.model import ARIMA\n",
        "\n",
        "# Assuming pollution_data_log_train is defined and contains your training data\n",
        "\n",
        "# Handle non-finite values\n",
        "pollution_data_log_train = pollution_data_log_train.replace([np.inf, -np.inf], np.nan)\n",
        "\n",
        "# Identify specific index with non-finite value\n",
        "specific_index = '23-01-2010 17:00'\n",
        "\n",
        "# Check if the specific index has non-finite value\n",
        "if not np.isfinite(pollution_data_log_train.loc[specific_index]):\n",
        "    print(f\"Non-finite value found at index: {specific_index}\")\n",
        "\n",
        "    # Option 1: Replace with mean or median of the series\n",
        "    mean_value = pollution_data_log_train.mean()\n",
        "    pollution_data_log_train.loc[specific_index] = mean_value\n",
        "\n",
        "    # Option 2: Drop the row with the non-finite value\n",
        "    # pollution_data_log_train = pollution_data_log_train.drop(specific_index)\n",
        "\n",
        "try:\n",
        "    model = ARIMA(pollution_data_log_train, order=(1, 0, 1))\n",
        "    model_fit = model.fit()\n",
        "\n",
        "    # Print model summary\n",
        "    print(model_fit.summary())\n",
        "\n",
        "except Exception as e:\n",
        "    print(f\"Error occurred during model fitting: {str(e)}\")\n"
      ],
      "metadata": {
        "colab": {
          "base_uri": "https://localhost:8080/"
        },
        "id": "dFWSe6HpfyLu",
        "outputId": "b00231da-42a8-4367-e07a-f12c9b6718d8"
      },
      "execution_count": null,
      "outputs": [
        {
          "output_type": "stream",
          "name": "stdout",
          "text": [
            "Non-finite value found at index: 23-01-2010 17:00\n"
          ]
        },
        {
          "output_type": "stream",
          "name": "stderr",
          "text": [
            "/usr/local/lib/python3.10/dist-packages/statsmodels/tsa/base/tsa_model.py:473: ValueWarning: An unsupported index was provided and will be ignored when e.g. forecasting.\n",
            "  self._init_dates(dates, freq)\n",
            "/usr/local/lib/python3.10/dist-packages/statsmodels/tsa/base/tsa_model.py:473: ValueWarning: An unsupported index was provided and will be ignored when e.g. forecasting.\n",
            "  self._init_dates(dates, freq)\n",
            "/usr/local/lib/python3.10/dist-packages/statsmodels/tsa/base/tsa_model.py:473: ValueWarning: An unsupported index was provided and will be ignored when e.g. forecasting.\n",
            "  self._init_dates(dates, freq)\n"
          ]
        },
        {
          "output_type": "stream",
          "name": "stdout",
          "text": [
            "                               SARIMAX Results                                \n",
            "==============================================================================\n",
            "Dep. Variable:              pollution   No. Observations:                35040\n",
            "Model:                 ARIMA(1, 0, 1)   Log Likelihood               22047.373\n",
            "Date:                Tue, 16 Jul 2024   AIC                         -44086.746\n",
            "Time:                        09:28:09   BIC                         -44052.889\n",
            "Sample:                             0   HQIC                        -44075.963\n",
            "                              - 35040                                         \n",
            "Covariance Type:                  opg                                         \n",
            "==============================================================================\n",
            "                 coef    std err          z      P>|z|      [0.025      0.975]\n",
            "------------------------------------------------------------------------------\n",
            "const          1.7998      0.019     97.081      0.000       1.764       1.836\n",
            "ar.L1          0.9529      0.002    536.294      0.000       0.949       0.956\n",
            "ma.L1          0.0928      0.003     27.951      0.000       0.086       0.099\n",
            "sigma2         0.0153   5.81e-05    263.763      0.000       0.015       0.015\n",
            "===================================================================================\n",
            "Ljung-Box (L1) (Q):                   0.29   Jarque-Bera (JB):            166534.60\n",
            "Prob(Q):                              0.59   Prob(JB):                         0.00\n",
            "Heteroskedasticity (H):               1.06   Skew:                            -0.95\n",
            "Prob(H) (two-sided):                  0.00   Kurtosis:                        13.51\n",
            "===================================================================================\n",
            "\n",
            "Warnings:\n",
            "[1] Covariance matrix calculated using the outer product of gradients (complex-step).\n"
          ]
        }
      ]
    },
    {
      "cell_type": "code",
      "source": [
        "pred_99=model_fit.get_forecast(steps=61,alpha=0.05)"
      ],
      "metadata": {
        "colab": {
          "base_uri": "https://localhost:8080/"
        },
        "id": "kRrAVlvaNcx3",
        "outputId": "bf974b1b-d145-45d4-f43f-7fff73f4fb8f"
      },
      "execution_count": null,
      "outputs": [
        {
          "output_type": "stream",
          "name": "stderr",
          "text": [
            "/usr/local/lib/python3.10/dist-packages/statsmodels/tsa/base/tsa_model.py:836: ValueWarning: No supported index is available. Prediction results will be given with an integer index beginning at `start`.\n",
            "  return get_prediction_index(\n",
            "/usr/local/lib/python3.10/dist-packages/statsmodels/tsa/base/tsa_model.py:836: FutureWarning: No supported index is available. In the next version, calling this method in a model without a supported index will result in an exception.\n",
            "  return get_prediction_index(\n",
            "/usr/local/lib/python3.10/dist-packages/statsmodels/tsa/statespace/representation.py:374: FutureWarning: Unknown keyword arguments: dict_keys(['alpha']).Passing unknown keyword arguments will raise a TypeError beginning in version 0.15.\n",
            "  warnings.warn(msg, FutureWarning)\n"
          ]
        }
      ]
    },
    {
      "cell_type": "code",
      "source": [
        "# Assuming model_fit is your fitted SARIMAX model\n",
        "#pred_99 = model_fit.get_forecast(steps=61, alpha=0.05)\n",
        "\n",
        "# Extracting forecasted values and confidence intervals\n",
        "forecast_values = pred_99.predicted_mean\n",
        "forecast_ci = pred_99.conf_int()\n",
        "\n",
        "# Print the forecasted values\n",
        "print(\"Forecasted values:\")\n",
        "print(forecast_values)\n",
        "\n",
        "# Print the confidence intervals\n",
        "print(\"Confidence intervals:\")\n",
        "print(forecast_ci)"
      ],
      "metadata": {
        "colab": {
          "base_uri": "https://localhost:8080/"
        },
        "id": "al38bL4YgVYS",
        "outputId": "038fe8db-22de-4377-97e4-b7bc7d42e597"
      },
      "execution_count": null,
      "outputs": [
        {
          "output_type": "stream",
          "name": "stdout",
          "text": [
            "Forecasted values:\n",
            "35040    1.386601\n",
            "35041    1.406075\n",
            "35042    1.424631\n",
            "35043    1.442313\n",
            "35044    1.459161\n",
            "           ...   \n",
            "35096    1.772156\n",
            "35097    1.773461\n",
            "35098    1.774704\n",
            "35099    1.775888\n",
            "35100    1.777017\n",
            "Name: predicted_mean, Length: 61, dtype: float64\n",
            "Confidence intervals:\n",
            "       lower pollution  upper pollution\n",
            "35040         1.143876         1.629326\n",
            "35041         1.054877         1.757273\n",
            "35042         0.998208         1.851054\n",
            "35043         0.957597         1.927028\n",
            "35044         0.927020         1.991302\n",
            "...                ...              ...\n",
            "35096         0.902772         2.641541\n",
            "35097         0.903910         2.643012\n",
            "35098         0.905002         2.644406\n",
            "35099         0.906050         2.645727\n",
            "35100         0.907054         2.646980\n",
            "\n",
            "[61 rows x 2 columns]\n"
          ]
        }
      ]
    },
    {
      "cell_type": "code",
      "source": [
        "forecast_index = pd.date_range(start=pollution_data_log_train.index[-1], periods=62, freq='H')[1:]  # Adjust frequency if needed\n",
        "forecasted_y = pd.Series(pred_99.predicted_mean.values, index=forecast_index)\n",
        "\n",
        "# Check for NaN values\n",
        "print(\"NaN values in pollution_data_log_test:\", pollution_data_log_test.isnull().sum())\n",
        "print(\"NaN values in forecasted_y:\", forecasted_y.isnull().sum)"
      ],
      "metadata": {
        "colab": {
          "base_uri": "https://localhost:8080/",
          "height": 389
        },
        "id": "lNQ8aUL8kirK",
        "outputId": "0c131f9e-0e53-4e85-f03d-18868096ce1d"
      },
      "execution_count": null,
      "outputs": [
        {
          "output_type": "stream",
          "name": "stdout",
          "text": [
            "NaN values in pollution_data_log_test: 0\n",
            "NaN values in forecasted_y: <bound method NDFrame._add_numeric_operations.<locals>.sum of 2014-01-01 00:00:00    False\n",
            "2014-01-01 01:00:00    False\n",
            "2014-01-01 02:00:00    False\n",
            "2014-01-01 03:00:00    False\n",
            "2014-01-01 04:00:00    False\n",
            "                       ...  \n",
            "2014-01-03 08:00:00    False\n",
            "2014-01-03 09:00:00    False\n",
            "2014-01-03 10:00:00    False\n",
            "2014-01-03 11:00:00    False\n",
            "2014-01-03 12:00:00    False\n",
            "Freq: H, Length: 61, dtype: bool>\n"
          ]
        },
        {
          "output_type": "display_data",
          "data": {
            "text/plain": [
              "<Figure size 400x100 with 1 Axes>"
            ],
            "image/png": "[encoded data removed]"
          },
          "metadata": {}
        }
      ]
    },
    {
      "cell_type": "code",
      "source": [
        "from sklearn.metrics import accuracy_score,mean_squared_error,mean_absolute_percentage_error,mean_absolute_error\n",
        "# Slice pollution_data_log_test to match the length of forecasted_y\n",
        "mean_absolute_error(pollution_data_log_test[:len(forecasted_y)], forecasted_y)"
      ],
      "metadata": {
        "id": "rkhH75yASA7h",
        "outputId": "04a40330-9552-4178-e7c5-764c39c421ce",
        "colab": {
          "base_uri": "https://localhost:8080/",
          "height": 160
        }
      },
      "execution_count": null,
      "outputs": [
        {
          "output_type": "execute_result",
          "data": {
            "text/plain": [
              "0.3455733090176779"
            ]
          },
          "metadata": {},
          "execution_count": 26
        },
        {
          "output_type": "display_data",
          "data": {
            "text/plain": [
              "<Figure size 400x100 with 1 Axes>"
            ],
            "image/png": "[encoded data removed]"
          },
          "metadata": {}
        }
      ]
    },
    {
      "cell_type": "code",
      "source": [
        "from sklearn.metrics import mean_squared_error\n",
        "\n",
        "# Convert forecasted_y to a numpy array if it's not already\n",
        "forecasted_y = np.array(forecasted_y)\n",
        "\n",
        "# Slice pollution_data_log_test to match the length of forecasted_y\n",
        "pollution_data_log_test_sliced = pollution_data_log_test[:len(forecasted_y)]\n",
        "\n",
        "# Calculate the Mean Squared Error (MSE)\n",
        "mse = mean_squared_error(pollution_data_log_test_sliced, forecasted_y)\n",
        "print(f\"Mean Squared Error (MSE): {mse}\")\n"
      ],
      "metadata": {
        "colab": {
          "base_uri": "https://localhost:8080/"
        },
        "id": "xMNyh7wTAIgY",
        "outputId": "e1e7a882-f867-4167-cdc8-84090c6351ea"
      },
      "execution_count": null,
      "outputs": [
        {
          "output_type": "stream",
          "name": "stdout",
          "text": [
            "Mean Squared Error (MSE): 0.15017589408307516\n"
          ]
        }
      ]
    }
  ]
}