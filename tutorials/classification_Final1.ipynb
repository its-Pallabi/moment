{
  "cells": [
    {
      "cell_type": "markdown",
      "metadata": {
        "id": "C8raVyBFfrko"
      },
      "source": [
        "<!-- <center> -->\n",
        "<h1> Using MOMENT for Classification </h1>\n",
        "<!-- </center> -->\n",
        "<hr>"
      ]
    },
    {
      "cell_type": "markdown",
      "metadata": {
        "id": "EuE5as4Sfrkr"
      },
      "source": [
        "## Contents\n",
        "### 1. Loading of MOMENT\n",
        "### 2. Classification Head\n"
      ]
    },
    {
      "cell_type": "code",
      "execution_count": null,
      "metadata": {
        "colab": {
          "base_uri": "https://localhost:8080/"
        },
        "id": "Et8ojgnnf_Lr",
        "outputId": "8b226eae-48e6-4ae0-964c-abd27b204d77"
      },
      "outputs": [
        {
          "name": "stdout",
          "output_type": "stream",
          "text": [
            "Cloning into 'moment'...\n",
            "remote: Enumerating objects: 781, done.\u001b[K\n",
            "remote: Counting objects: 100% (306/306), done.\u001b[K\n",
            "remote: Compressing objects: 100% (66/66), done.\u001b[K\n",
            "remote: Total 781 (delta 286), reused 240 (delta 240), pack-reused 475\u001b[K\n",
            "Receiving objects: 100% (781/781), 25.03 MiB | 9.66 MiB/s, done.\n",
            "Resolving deltas: 100% (501/501), done.\n"
          ]
        }
      ],
      "source": [
        "!git clone https://github.com/its-Pallabi/moment"
      ]
    },
    {
      "cell_type": "code",
      "execution_count": null,
      "metadata": {
        "colab": {
          "base_uri": "https://localhost:8080/"
        },
        "id": "WsMk5rLufrkx",
        "outputId": "1a411c60-401d-4412-d49a-5426267c82e1"
      },
      "outputs": [
        {
          "name": "stdout",
          "output_type": "stream",
          "text": [
            "Requirement already satisfied: numpy in /usr/local/lib/python3.10/dist-packages (1.25.2)\n",
            "Requirement already satisfied: pandas in /usr/local/lib/python3.10/dist-packages (2.0.3)\n",
            "Requirement already satisfied: scikit-learn in /usr/local/lib/python3.10/dist-packages (1.2.2)\n",
            "Requirement already satisfied: matplotlib in /usr/local/lib/python3.10/dist-packages (3.7.1)\n",
            "Requirement already satisfied: tqdm in /usr/local/lib/python3.10/dist-packages (4.66.4)\n",
            "Requirement already satisfied: python-dateutil>=2.8.2 in /usr/local/lib/python3.10/dist-packages (from pandas) (2.8.2)\n",
            "Requirement already satisfied: pytz>=2020.1 in /usr/local/lib/python3.10/dist-packages (from pandas) (2023.4)\n",
            "Requirement already satisfied: tzdata>=2022.1 in /usr/local/lib/python3.10/dist-packages (from pandas) (2024.1)\n",
            "Requirement already satisfied: scipy>=1.3.2 in /usr/local/lib/python3.10/dist-packages (from scikit-learn) (1.11.4)\n",
            "Requirement already satisfied: joblib>=1.1.1 in /usr/local/lib/python3.10/dist-packages (from scikit-learn) (1.4.2)\n",
            "Requirement already satisfied: threadpoolctl>=2.0.0 in /usr/local/lib/python3.10/dist-packages (from scikit-learn) (3.5.0)\n",
            "Requirement already satisfied: contourpy>=1.0.1 in /usr/local/lib/python3.10/dist-packages (from matplotlib) (1.2.1)\n",
            "Requirement already satisfied: cycler>=0.10 in /usr/local/lib/python3.10/dist-packages (from matplotlib) (0.12.1)\n",
            "Requirement already satisfied: fonttools>=4.22.0 in /usr/local/lib/python3.10/dist-packages (from matplotlib) (4.53.1)\n",
            "Requirement already satisfied: kiwisolver>=1.0.1 in /usr/local/lib/python3.10/dist-packages (from matplotlib) (1.4.5)\n",
            "Requirement already satisfied: packaging>=20.0 in /usr/local/lib/python3.10/dist-packages (from matplotlib) (24.1)\n",
            "Requirement already satisfied: pillow>=6.2.0 in /usr/local/lib/python3.10/dist-packages (from matplotlib) (9.4.0)\n",
            "Requirement already satisfied: pyparsing>=2.3.1 in /usr/local/lib/python3.10/dist-packages (from matplotlib) (3.1.2)\n",
            "Requirement already satisfied: six>=1.5 in /usr/local/lib/python3.10/dist-packages (from python-dateutil>=2.8.2->pandas) (1.16.0)\n",
            "Collecting git+https://github.com/its-Pallabi/moment.git\n",
            "  Cloning https://github.com/its-Pallabi/moment.git to /tmp/pip-req-build-xv9ofsr8\n",
            "  Running command git clone --filter=blob:none --quiet https://github.com/its-Pallabi/moment.git /tmp/pip-req-build-xv9ofsr8\n",
            "  Resolved https://github.com/its-Pallabi/moment.git to commit 7a6231208318fc6b855ac083a144192c15ec24aa\n",
            "  Installing build dependencies ... \u001b[?25l\u001b[?25hdone\n",
            "  Getting requirements to build wheel ... \u001b[?25l\u001b[?25hdone\n",
            "  Preparing metadata (pyproject.toml) ... \u001b[?25l\u001b[?25hdone\n",
            "Collecting huggingface-hub==0.19.4 (from momentfm==0.1)\n",
            "  Downloading huggingface_hub-0.19.4-py3-none-any.whl (311 kB)\n",
            "\u001b[2K     \u001b[90m━━━━━━━━━━━━━━━━━━━━━━━━━━━━━━━━━━━━━━━━\u001b[0m \u001b[32m311.7/311.7 kB\u001b[0m \u001b[31m5.4 MB/s\u001b[0m eta \u001b[36m0:00:00\u001b[0m\n",
            "\u001b[?25hRequirement already satisfied: numpy==1.25.2 in /usr/local/lib/python3.10/dist-packages (from momentfm==0.1) (1.25.2)\n",
            "Requirement already satisfied: torch~=2.0 in /usr/local/lib/python3.10/dist-packages (from momentfm==0.1) (2.3.0+cu121)\n",
            "Collecting transformers==4.33.3 (from momentfm==0.1)\n",
            "  Downloading transformers-4.33.3-py3-none-any.whl (7.6 MB)\n",
            "\u001b[2K     \u001b[90m━━━━━━━━━━━━━━━━━━━━━━━━━━━━━━━━━━━━━━━━\u001b[0m \u001b[32m7.6/7.6 MB\u001b[0m \u001b[31m59.9 MB/s\u001b[0m eta \u001b[36m0:00:00\u001b[0m\n",
            "\u001b[?25hRequirement already satisfied: filelock in /usr/local/lib/python3.10/dist-packages (from huggingface-hub==0.19.4->momentfm==0.1) (3.15.4)\n",
            "Requirement already satisfied: fsspec>=2023.5.0 in /usr/local/lib/python3.10/dist-packages (from huggingface-hub==0.19.4->momentfm==0.1) (2023.6.0)\n",
            "Requirement already satisfied: requests in /usr/local/lib/python3.10/dist-packages (from huggingface-hub==0.19.4->momentfm==0.1) (2.31.0)\n",
            "Requirement already satisfied: tqdm>=4.42.1 in /usr/local/lib/python3.10/dist-packages (from huggingface-hub==0.19.4->momentfm==0.1) (4.66.4)\n",
            "Requirement already satisfied: pyyaml>=5.1 in /usr/local/lib/python3.10/dist-packages (from huggingface-hub==0.19.4->momentfm==0.1) (6.0.1)\n",
            "Requirement already satisfied: typing-extensions>=3.7.4.3 in /usr/local/lib/python3.10/dist-packages (from huggingface-hub==0.19.4->momentfm==0.1) (4.12.2)\n",
            "Requirement already satisfied: packaging>=20.9 in /usr/local/lib/python3.10/dist-packages (from huggingface-hub==0.19.4->momentfm==0.1) (24.1)\n",
            "Requirement already satisfied: regex!=2019.12.17 in /usr/local/lib/python3.10/dist-packages (from transformers==4.33.3->momentfm==0.1) (2024.5.15)\n",
            "Collecting tokenizers!=0.11.3,<0.14,>=0.11.1 (from transformers==4.33.3->momentfm==0.1)\n",
            "  Downloading tokenizers-0.13.3-cp310-cp310-manylinux_2_17_x86_64.manylinux2014_x86_64.whl (7.8 MB)\n",
            "\u001b[2K     \u001b[90m━━━━━━━━━━━━━━━━━━━━━━━━━━━━━━━━━━━━━━━━\u001b[0m \u001b[32m7.8/7.8 MB\u001b[0m \u001b[31m49.5 MB/s\u001b[0m eta \u001b[36m0:00:00\u001b[0m\n",
            "\u001b[?25hRequirement already satisfied: safetensors>=0.3.1 in /usr/local/lib/python3.10/dist-packages (from transformers==4.33.3->momentfm==0.1) (0.4.3)\n",
            "Requirement already satisfied: sympy in /usr/local/lib/python3.10/dist-packages (from torch~=2.0->momentfm==0.1) (1.13.0)\n",
            "Requirement already satisfied: networkx in /usr/local/lib/python3.10/dist-packages (from torch~=2.0->momentfm==0.1) (3.3)\n",
            "Requirement already satisfied: jinja2 in /usr/local/lib/python3.10/dist-packages (from torch~=2.0->momentfm==0.1) (3.1.4)\n",
            "Collecting nvidia-cuda-nvrtc-cu12==12.1.105 (from torch~=2.0->momentfm==0.1)\n",
            "  Using cached nvidia_cuda_nvrtc_cu12-12.1.105-py3-none-manylinux1_x86_64.whl (23.7 MB)\n",
            "Collecting nvidia-cuda-runtime-cu12==12.1.105 (from torch~=2.0->momentfm==0.1)\n",
            "  Using cached nvidia_cuda_runtime_cu12-12.1.105-py3-none-manylinux1_x86_64.whl (823 kB)\n",
            "Collecting nvidia-cuda-cupti-cu12==12.1.105 (from torch~=2.0->momentfm==0.1)\n",
            "  Using cached nvidia_cuda_cupti_cu12-12.1.105-py3-none-manylinux1_x86_64.whl (14.1 MB)\n",
            "Collecting nvidia-cudnn-cu12==8.9.2.26 (from torch~=2.0->momentfm==0.1)\n",
            "  Using cached nvidia_cudnn_cu12-8.9.2.26-py3-none-manylinux1_x86_64.whl (731.7 MB)\n",
            "Collecting nvidia-cublas-cu12==12.1.3.1 (from torch~=2.0->momentfm==0.1)\n",
            "  Using cached nvidia_cublas_cu12-12.1.3.1-py3-none-manylinux1_x86_64.whl (410.6 MB)\n",
            "Collecting nvidia-cufft-cu12==11.0.2.54 (from torch~=2.0->momentfm==0.1)\n",
            "  Using cached nvidia_cufft_cu12-11.0.2.54-py3-none-manylinux1_x86_64.whl (121.6 MB)\n",
            "Collecting nvidia-curand-cu12==10.3.2.106 (from torch~=2.0->momentfm==0.1)\n",
            "  Using cached nvidia_curand_cu12-10.3.2.106-py3-none-manylinux1_x86_64.whl (56.5 MB)\n",
            "Collecting nvidia-cusolver-cu12==11.4.5.107 (from torch~=2.0->momentfm==0.1)\n",
            "  Using cached nvidia_cusolver_cu12-11.4.5.107-py3-none-manylinux1_x86_64.whl (124.2 MB)\n",
            "Collecting nvidia-cusparse-cu12==12.1.0.106 (from torch~=2.0->momentfm==0.1)\n",
            "  Using cached nvidia_cusparse_cu12-12.1.0.106-py3-none-manylinux1_x86_64.whl (196.0 MB)\n",
            "Collecting nvidia-nccl-cu12==2.20.5 (from torch~=2.0->momentfm==0.1)\n",
            "  Using cached nvidia_nccl_cu12-2.20.5-py3-none-manylinux2014_x86_64.whl (176.2 MB)\n",
            "Collecting nvidia-nvtx-cu12==12.1.105 (from torch~=2.0->momentfm==0.1)\n",
            "  Using cached nvidia_nvtx_cu12-12.1.105-py3-none-manylinux1_x86_64.whl (99 kB)\n",
            "Requirement already satisfied: triton==2.3.0 in /usr/local/lib/python3.10/dist-packages (from torch~=2.0->momentfm==0.1) (2.3.0)\n",
            "Collecting nvidia-nvjitlink-cu12 (from nvidia-cusolver-cu12==11.4.5.107->torch~=2.0->momentfm==0.1)\n",
            "  Downloading nvidia_nvjitlink_cu12-12.5.82-py3-none-manylinux2014_x86_64.whl (21.3 MB)\n",
            "\u001b[2K     \u001b[90m━━━━━━━━━━━━━━━━━━━━━━━━━━━━━━━━━━━━━━━━\u001b[0m \u001b[32m21.3/21.3 MB\u001b[0m \u001b[31m59.6 MB/s\u001b[0m eta \u001b[36m0:00:00\u001b[0m\n",
            "\u001b[?25hRequirement already satisfied: MarkupSafe>=2.0 in /usr/local/lib/python3.10/dist-packages (from jinja2->torch~=2.0->momentfm==0.1) (2.1.5)\n",
            "Requirement already satisfied: charset-normalizer<4,>=2 in /usr/local/lib/python3.10/dist-packages (from requests->huggingface-hub==0.19.4->momentfm==0.1) (3.3.2)\n",
            "Requirement already satisfied: idna<4,>=2.5 in /usr/local/lib/python3.10/dist-packages (from requests->huggingface-hub==0.19.4->momentfm==0.1) (3.7)\n",
            "Requirement already satisfied: urllib3<3,>=1.21.1 in /usr/local/lib/python3.10/dist-packages (from requests->huggingface-hub==0.19.4->momentfm==0.1) (2.0.7)\n",
            "Requirement already satisfied: certifi>=2017.4.17 in /usr/local/lib/python3.10/dist-packages (from requests->huggingface-hub==0.19.4->momentfm==0.1) (2024.7.4)\n",
            "Requirement already satisfied: mpmath<1.4,>=1.1.0 in /usr/local/lib/python3.10/dist-packages (from sympy->torch~=2.0->momentfm==0.1) (1.3.0)\n",
            "Building wheels for collected packages: momentfm\n",
            "  Building wheel for momentfm (pyproject.toml) ... \u001b[?25l\u001b[?25hdone\n",
            "  Created wheel for momentfm: filename=momentfm-0.1-py3-none-any.whl size=33375 sha256=747b3779dbf845732144f271fa7fd1cd6f89c2c127c8134592388a6cce2180f4\n",
            "  Stored in directory: /tmp/pip-ephem-wheel-cache-65h3_cvx/wheels/ea/c1/49/67c8ab01205538216aabbb981a149cfb540e2d1362a306cb6d\n",
            "Successfully built momentfm\n",
            "Installing collected packages: tokenizers, nvidia-nvtx-cu12, nvidia-nvjitlink-cu12, nvidia-nccl-cu12, nvidia-curand-cu12, nvidia-cufft-cu12, nvidia-cuda-runtime-cu12, nvidia-cuda-nvrtc-cu12, nvidia-cuda-cupti-cu12, nvidia-cublas-cu12, nvidia-cusparse-cu12, nvidia-cudnn-cu12, huggingface-hub, transformers, nvidia-cusolver-cu12, momentfm\n",
            "  Attempting uninstall: tokenizers\n",
            "    Found existing installation: tokenizers 0.19.1\n",
            "    Uninstalling tokenizers-0.19.1:\n",
            "      Successfully uninstalled tokenizers-0.19.1\n",
            "  Attempting uninstall: huggingface-hub\n",
            "    Found existing installation: huggingface-hub 0.23.4\n",
            "    Uninstalling huggingface-hub-0.23.4:\n",
            "      Successfully uninstalled huggingface-hub-0.23.4\n",
            "  Attempting uninstall: transformers\n",
            "    Found existing installation: transformers 4.41.2\n",
            "    Uninstalling transformers-4.41.2:\n",
            "      Successfully uninstalled transformers-4.41.2\n",
            "Successfully installed huggingface-hub-0.19.4 momentfm-0.1 nvidia-cublas-cu12-12.1.3.1 nvidia-cuda-cupti-cu12-12.1.105 nvidia-cuda-nvrtc-cu12-12.1.105 nvidia-cuda-runtime-cu12-12.1.105 nvidia-cudnn-cu12-8.9.2.26 nvidia-cufft-cu12-11.0.2.54 nvidia-curand-cu12-10.3.2.106 nvidia-cusolver-cu12-11.4.5.107 nvidia-cusparse-cu12-12.1.0.106 nvidia-nccl-cu12-2.20.5 nvidia-nvjitlink-cu12-12.5.82 nvidia-nvtx-cu12-12.1.105 tokenizers-0.13.3 transformers-4.33.3\n"
          ]
        }
      ],
      "source": [
        "!pip install numpy pandas scikit-learn matplotlib tqdm\n",
        "!pip install git+https://github.com/its-Pallabi/moment.git"
      ]
    },
    {
      "cell_type": "code",
      "execution_count": null,
      "metadata": {
        "colab": {
          "base_uri": "https://localhost:8080/",
          "height": 234,
          "referenced_widgets": [
            "d7f367132f5b43cba30850a3e4c8d4e2",
            "ef1d44f085254b0293bed2a347e44864",
            "2f3045e261104ac287cda920b68689b5",
            "e90c45ce00fc4ad39a2bd5bd8b615bb1",
            "70c646d26b5e4a3ba525d6b427c6f0f1",
            "66bd34ff190a41c9b084705af102d1a6",
            "29d96f0e0afa4a4cbd2ac83bc03dde4b",
            "c9c33d1b792042ee851ec52b67998b38",
            "ab2ef306ea074c7cb4d1ec9b014d54e4",
            "9bbc4d289342486686ed9d34ea763e96",
            "4e7ec4e673c74a0f9d0fd5eb1e1a3ce8",
            "cef5f3a9e0be4f3bb9c9e1d14d15f4b5",
            "ccb66187647f4c44b7c15b7315049a64",
            "481e07e47ad0459a80da0e5eb2f62528",
            "3278e723bd5c4b9e849467e5b7fde184",
            "e5f61594ec9a4e11b6dd9d625bbc874b",
            "4c1d9d73183641e89263c320fd8cd24f",
            "b92be520d8714c08aba317df4548c3bd",
            "d4984c5aaea648b4a8dd7d6d5b9af022",
            "6a0ead797443456cbb19d4303109bd2b",
            "861c80ee4507482d81645fa158c77531",
            "b7b871b1b2e0477686797429db754933",
            "6c75b44999c04114bab33fdd5fb2268f",
            "c483c8a72a324bf7be5630b7d5b76eeb",
            "e0f703aa78aa4b77a538099245fde4c5",
            "2951ebfea803404f9d10e527afc6994c",
            "15feb4a0493946d4ab54c8a84dd8ddce",
            "416f7da2086e4b2bb284e6f83d3b48d3",
            "e977c1c05a16482498a0f2a6d4b4efd5",
            "4868efb73a5048cfbdeb0bd2699c7321",
            "b8b29c65c92148b5ac2709597c117f73",
            "4717f8bf0fbe4bb5b5dd299f2061f4cd",
            "12d668fa7ca54b29afa2c23ae4b0599f",
            "93adef15a44c4024a64c4db5793a83f6",
            "20353b8c70234d9ab7e6287372cc4b4c",
            "770b544ecf414ed79a5b20dd0c6e7089",
            "8824f22c2d42478b90666ab3f6d60f9c",
            "c82464d662a34c8faf2a0cd49d8b4b33",
            "c89109156b5c457b908675319fcfebfc",
            "6b1379a59f2243268e8aeaaf77acf349",
            "b9cc0aca91ae4d49ae3cef0357b4b26d",
            "3916ab5165c44f5abb798acb4e8b5b84",
            "70ce96b34f8b492d982c016962ab8600",
            "e8f5d9f9386b4bdcbaefe39094cbac2b"
          ]
        },
        "id": "jUW1iGjtfrkz",
        "outputId": "61a3318e-e1ee-46a1-ba19-0a9f13998efe"
      },
      "outputs": [
        {
          "name": "stderr",
          "output_type": "stream",
          "text": [
            "/usr/local/lib/python3.10/dist-packages/transformers/utils/generic.py:311: UserWarning: torch.utils._pytree._register_pytree_node is deprecated. Please use torch.utils._pytree.register_pytree_node instead.\n",
            "  torch.utils._pytree._register_pytree_node(\n",
            "/usr/local/lib/python3.10/dist-packages/transformers/utils/generic.py:311: UserWarning: torch.utils._pytree._register_pytree_node is deprecated. Please use torch.utils._pytree.register_pytree_node instead.\n",
            "  torch.utils._pytree._register_pytree_node(\n"
          ]
        },
        {
          "data": {
            "application/vnd.jupyter.widget-view+json": {
              "model_id": "d7f367132f5b43cba30850a3e4c8d4e2",
              "version_major": 2,
              "version_minor": 0
            },
            "text/plain": [
              "config.json:   0%|          | 0.00/248 [00:00<?, ?B/s]"
            ]
          },
          "metadata": {},
          "output_type": "display_data"
        },
        {
          "data": {
            "application/vnd.jupyter.widget-view+json": {
              "model_id": "cef5f3a9e0be4f3bb9c9e1d14d15f4b5",
              "version_major": 2,
              "version_minor": 0
            },
            "text/plain": [
              "pytorch_model.bin:   0%|          | 0.00/1.39G [00:00<?, ?B/s]"
            ]
          },
          "metadata": {},
          "output_type": "display_data"
        },
        {
          "data": {
            "application/vnd.jupyter.widget-view+json": {
              "model_id": "6c75b44999c04114bab33fdd5fb2268f",
              "version_major": 2,
              "version_minor": 0
            },
            "text/plain": [
              "config.json:   0%|          | 0.00/662 [00:00<?, ?B/s]"
            ]
          },
          "metadata": {},
          "output_type": "display_data"
        },
        {
          "data": {
            "application/vnd.jupyter.widget-view+json": {
              "model_id": "93adef15a44c4024a64c4db5793a83f6",
              "version_major": 2,
              "version_minor": 0
            },
            "text/plain": [
              "model.safetensors:   0%|          | 0.00/3.13G [00:00<?, ?B/s]"
            ]
          },
          "metadata": {},
          "output_type": "display_data"
        }
      ],
      "source": [
        "from momentfm import MOMENTPipeline\n",
        "\n",
        "model = MOMENTPipeline.from_pretrained(\n",
        "    \"AutonLab/MOMENT-1-large\",\n",
        "    model_kwargs={\n",
        "        'task_name': 'classification',\n",
        "        'n_channels': 1,\n",
        "        'num_class': 2\n",
        "    }, # We are loading the model in `classification` mode\n",
        ")\n"
      ]
    },
    {
      "cell_type": "code",
      "execution_count": null,
      "metadata": {
        "colab": {
          "base_uri": "https://localhost:8080/"
        },
        "id": "-hARUvlifrkz",
        "outputId": "d609ac8c-c783-41cb-eecf-67188f63e400"
      },
      "outputs": [
        {
          "name": "stdout",
          "output_type": "stream",
          "text": [
            "MOMENTPipeline(\n",
            "  (normalizer): RevIN()\n",
            "  (tokenizer): Patching()\n",
            "  (patch_embedding): PatchEmbedding(\n",
            "    (value_embedding): Linear(in_features=8, out_features=1024, bias=False)\n",
            "    (position_embedding): PositionalEmbedding()\n",
            "    (dropout): Dropout(p=0.1, inplace=False)\n",
            "  )\n",
            "  (encoder): T5Stack(\n",
            "    (embed_tokens): Embedding(32128, 1024)\n",
            "    (block): ModuleList(\n",
            "      (0): T5Block(\n",
            "        (layer): ModuleList(\n",
            "          (0): T5LayerSelfAttention(\n",
            "            (SelfAttention): T5Attention(\n",
            "              (q): Linear(in_features=1024, out_features=1024, bias=False)\n",
            "              (k): Linear(in_features=1024, out_features=1024, bias=False)\n",
            "              (v): Linear(in_features=1024, out_features=1024, bias=False)\n",
            "              (o): Linear(in_features=1024, out_features=1024, bias=False)\n",
            "              (relative_attention_bias): Embedding(32, 16)\n",
            "            )\n",
            "            (layer_norm): T5LayerNorm()\n",
            "            (dropout): Dropout(p=0.1, inplace=False)\n",
            "          )\n",
            "          (1): T5LayerFF(\n",
            "            (DenseReluDense): T5DenseGatedActDense(\n",
            "              (wi_0): Linear(in_features=1024, out_features=2816, bias=False)\n",
            "              (wi_1): Linear(in_features=1024, out_features=2816, bias=False)\n",
            "              (wo): Linear(in_features=2816, out_features=1024, bias=False)\n",
            "              (dropout): Dropout(p=0.1, inplace=False)\n",
            "              (act): NewGELUActivation()\n",
            "            )\n",
            "            (layer_norm): T5LayerNorm()\n",
            "            (dropout): Dropout(p=0.1, inplace=False)\n",
            "          )\n",
            "        )\n",
            "      )\n",
            "      (1-23): 23 x T5Block(\n",
            "        (layer): ModuleList(\n",
            "          (0): T5LayerSelfAttention(\n",
            "            (SelfAttention): T5Attention(\n",
            "              (q): Linear(in_features=1024, out_features=1024, bias=False)\n",
            "              (k): Linear(in_features=1024, out_features=1024, bias=False)\n",
            "              (v): Linear(in_features=1024, out_features=1024, bias=False)\n",
            "              (o): Linear(in_features=1024, out_features=1024, bias=False)\n",
            "            )\n",
            "            (layer_norm): T5LayerNorm()\n",
            "            (dropout): Dropout(p=0.1, inplace=False)\n",
            "          )\n",
            "          (1): T5LayerFF(\n",
            "            (DenseReluDense): T5DenseGatedActDense(\n",
            "              (wi_0): Linear(in_features=1024, out_features=2816, bias=False)\n",
            "              (wi_1): Linear(in_features=1024, out_features=2816, bias=False)\n",
            "              (wo): Linear(in_features=2816, out_features=1024, bias=False)\n",
            "              (dropout): Dropout(p=0.1, inplace=False)\n",
            "              (act): NewGELUActivation()\n",
            "            )\n",
            "            (layer_norm): T5LayerNorm()\n",
            "            (dropout): Dropout(p=0.1, inplace=False)\n",
            "          )\n",
            "        )\n",
            "      )\n",
            "    )\n",
            "    (final_layer_norm): T5LayerNorm()\n",
            "    (dropout): Dropout(p=0.1, inplace=False)\n",
            "  )\n",
            "  (head): ClassificationHead(\n",
            "    (dropout): Dropout(p=0.1, inplace=False)\n",
            "    (linear): Linear(in_features=1024, out_features=2, bias=True)\n",
            "  )\n",
            ")\n"
          ]
        }
      ],
      "source": [
        "model.init()\n",
        "print(model)"
      ]
    },
    {
      "cell_type": "markdown",
      "metadata": {
        "id": "MNag69-Dfrk1"
      },
      "source": [
        "## 3. Inputs and Outputs\n",
        "\n",
        "MOMENT takes 3 inputs:\n",
        "1. An input time series of length $T=512$ timesteps and $C$ channels, and\n",
        "2. Two optional masks, both of length $T=512$.\n",
        "    - The input mask is utilized to regulate the time steps or patches that the model should attend to. For instance, in the case of shorter time series, you may opt not to attend to padding.\n",
        "    - The second mask, referred to simply as mask, denotes masked or unobserved values. We employ mask tokens to replace all patches containing any masked time step. MOMENT can attend to these mask tokens during reconstruction.\n",
        "    - By default, all time steps are observed and attended to.\n",
        "\n",
        "MOMENT returns a `TimeseriesOutputs` object. Since this is a classification task, it returns both `logits` and `embeddings` of the input."
      ]
    },
    {
      "cell_type": "code",
      "execution_count": null,
      "metadata": {
        "colab": {
          "base_uri": "https://localhost:8080/"
        },
        "id": "qLieE1Kcfrk2",
        "outputId": "bd7c9e59-e24c-4666-ad91-e6d21a4393c4"
      },
      "outputs": [
        {
          "name": "stdout",
          "output_type": "stream",
          "text": [
            "TimeseriesOutputs(forecast=None,\n",
            "                  anomaly_scores=None,\n",
            "                  logits=tensor([[-0.0637,  0.0673],\n",
            "        [-0.0826,  0.0918],\n",
            "        [-0.0646,  0.0734],\n",
            "        [-0.1127,  0.0207],\n",
            "        [-0.0890,  0.0207],\n",
            "        [-0.0864,  0.0849],\n",
            "        [-0.0768,  0.1088],\n",
            "        [-0.0632,  0.0609],\n",
            "        [-0.1002,  0.0827],\n",
            "        [-0.0774,  0.1054],\n",
            "        [-0.1402,  0.0370],\n",
            "        [-0.0689,  0.0504],\n",
            "        [-0.0726,  0.0514],\n",
            "        [-0.0812,  0.0679],\n",
            "        [-0.0688,  0.0779],\n",
            "        [-0.0961,  0.1182]], grad_fn=<AddmmBackward0>),\n",
            "                  labels=None,\n",
            "                  input_mask=None,\n",
            "                  pretrain_mask=None,\n",
            "                  reconstruction=None,\n",
            "                  embeddings=tensor([[[-9.5816e-02,  5.6538e-02, -6.0000e-02,  ..., -4.7617e-02,\n",
            "           2.4319e-02,  7.4160e-03],\n",
            "         [-4.1717e-02,  9.1202e-02, -1.1762e-01,  ...,  2.8625e-03,\n",
            "           1.5429e-02, -3.7270e-03],\n",
            "         [-8.7715e-02,  3.8952e-02,  5.1280e-03,  ..., -2.0928e-02,\n",
            "           9.7496e-02, -5.6143e-02],\n",
            "         ...,\n",
            "         [-3.2139e-02, -1.0515e-01, -9.5788e-02,  ..., -4.6365e-02,\n",
            "           1.0685e-01,  9.7856e-02],\n",
            "         [-2.6177e-02,  1.2670e-01,  5.8035e-02,  ..., -1.7566e-02,\n",
            "           3.1454e-02, -4.9929e-02],\n",
            "         [ 1.3164e-03,  9.2780e-02, -1.9643e-02,  ...,  6.5743e-02,\n",
            "           1.4985e-01,  3.6290e-02]],\n",
            "\n",
            "        [[-5.8357e-02,  7.8166e-02, -1.1407e-01,  ...,  1.2209e-01,\n",
            "          -9.1517e-03, -1.7792e-02],\n",
            "         [-5.2781e-02, -1.3423e-02, -1.3538e-01,  ..., -1.1540e-01,\n",
            "           1.4287e-01, -2.1262e-02],\n",
            "         [-8.5908e-02, -4.3288e-02, -3.9496e-02,  ...,  3.7845e-02,\n",
            "          -4.9309e-02, -7.1967e-02],\n",
            "         ...,\n",
            "         [-6.7371e-02,  9.6318e-02,  1.5856e-02,  ...,  4.1099e-02,\n",
            "           3.7350e-02,  1.7932e-02],\n",
            "         [-6.2889e-02,  3.3524e-02, -3.5069e-02,  ...,  4.7460e-02,\n",
            "           4.3385e-03, -2.5126e-02],\n",
            "         [ 3.7638e-03,  7.3443e-02, -3.2212e-02,  ...,  1.3219e-01,\n",
            "          -2.7164e-02, -4.9945e-02]],\n",
            "\n",
            "        [[-2.1367e-01,  1.0906e-02, -6.1337e-02,  ..., -1.0678e-01,\n",
            "          -4.6521e-03, -2.8244e-02],\n",
            "         [-8.0868e-02,  9.9301e-02, -1.0351e-01,  ..., -1.0370e-01,\n",
            "           9.5656e-03, -5.6814e-02],\n",
            "         [-9.2121e-02,  5.6123e-02, -6.5777e-02,  ..., -8.2618e-02,\n",
            "          -3.4606e-03, -7.2853e-02],\n",
            "         ...,\n",
            "         [-1.9875e-01,  3.3762e-02, -4.1555e-02,  ..., -2.6502e-02,\n",
            "           5.9916e-02,  7.8057e-02],\n",
            "         [ 6.2527e-02,  2.2137e-01, -1.0407e-03,  ..., -1.0768e-01,\n",
            "          -6.3610e-02, -6.0063e-02],\n",
            "         [-1.7315e-02,  1.3856e-01,  1.1585e-02,  ..., -3.1013e-02,\n",
            "          -3.3457e-02,  7.5168e-03]],\n",
            "\n",
            "        ...,\n",
            "\n",
            "        [[-5.2594e-02,  7.8575e-02, -1.0882e-01,  ...,  9.7521e-02,\n",
            "           8.8384e-04, -4.0501e-02],\n",
            "         [-1.2205e-01, -7.3179e-03, -1.7972e-01,  ...,  1.8558e-02,\n",
            "           1.8286e-02,  7.9544e-03],\n",
            "         [-7.9857e-02,  1.3910e-02, -3.1100e-02,  ..., -3.2533e-02,\n",
            "           1.0479e-04, -1.9146e-02],\n",
            "         ...,\n",
            "         [-6.9721e-02, -1.6854e-01, -8.7584e-02,  ..., -8.4463e-02,\n",
            "           4.4986e-02, -8.6764e-03],\n",
            "         [-7.1168e-02, -9.3980e-02, -4.3813e-02,  ...,  1.1471e-01,\n",
            "          -2.2478e-02,  7.5421e-03],\n",
            "         [ 1.4411e-02,  1.3915e-01,  3.6559e-02,  ...,  2.6079e-02,\n",
            "           5.0043e-02, -2.4080e-02]],\n",
            "\n",
            "        [[-1.5700e-01,  7.1305e-03, -4.2217e-02,  ..., -2.1805e-02,\n",
            "           3.8149e-02, -4.6387e-02],\n",
            "         [-2.6971e-02,  6.1480e-02,  1.8949e-02,  ..., -6.4487e-02,\n",
            "          -6.9431e-03,  9.0476e-03],\n",
            "         [-7.4687e-02,  9.1190e-02, -1.3883e-01,  ..., -2.2783e-02,\n",
            "           1.0850e-01, -5.4141e-02],\n",
            "         ...,\n",
            "         [-1.5489e-01,  1.6609e-01, -1.4073e-01,  ..., -1.0557e-02,\n",
            "          -4.9684e-02, -6.4365e-02],\n",
            "         [-1.6691e-01, -6.6824e-02, -1.5082e-01,  ..., -1.6239e-01,\n",
            "           1.7569e-01, -2.5755e-04],\n",
            "         [-1.7733e-01,  8.7809e-02, -1.1645e-02,  ..., -1.5396e-02,\n",
            "          -2.7572e-02, -2.2746e-03]],\n",
            "\n",
            "        [[-1.6405e-01,  1.9409e-01,  1.6711e-02,  ...,  9.1251e-02,\n",
            "           5.8829e-02, -2.1712e-02],\n",
            "         [-2.2070e-01,  1.4366e-01, -9.2920e-02,  ..., -2.0741e-01,\n",
            "           5.2328e-02, -6.6876e-02],\n",
            "         [-1.2253e-01,  6.7361e-02, -8.6830e-02,  ...,  5.2567e-02,\n",
            "           8.9723e-03,  2.4548e-02],\n",
            "         ...,\n",
            "         [-1.4526e-01,  5.8958e-02,  8.7931e-02,  ...,  8.6034e-02,\n",
            "           3.3094e-02, -2.1972e-02],\n",
            "         [-1.3546e-01,  1.0052e-01, -1.9909e-02,  ...,  6.7682e-02,\n",
            "          -5.1807e-02, -3.7192e-02],\n",
            "         [-1.5410e-01,  9.9626e-02, -4.8085e-02,  ..., -1.8776e-01,\n",
            "           6.1302e-02, -2.8162e-02]]]),\n",
            "                  metadata='concat',\n",
            "                  illegal_output=False)\n"
          ]
        }
      ],
      "source": [
        "from pprint import pprint\n",
        "import torch\n",
        "# takes in tensor of shape [batchsize, n_channels, context_length]\n",
        "x = torch.randn(16, 1, 512)\n",
        "output = model(x)\n",
        "pprint(output)"
      ]
    },
    {
      "cell_type": "code",
      "execution_count": null,
      "metadata": {
        "colab": {
          "base_uri": "https://localhost:8080/"
        },
        "id": "PVP38Bvcfrk3",
        "outputId": "421c7836-d7d7-43b5-8fcc-84a33413ee2c"
      },
      "outputs": [
        {
          "data": {
            "text/plain": [
              "tensor([1, 1, 1, 1, 1, 1, 1, 1, 1, 1, 1, 1, 1, 1, 1, 1])"
            ]
          },
          "execution_count": 7,
          "metadata": {},
          "output_type": "execute_result"
        }
      ],
      "source": [
        "# backward\n",
        "# [batch_size, num_classes]\n",
        "logits = output.logits\n",
        "\n",
        "# [batch_size, ]\n",
        "predicted_labels = logits.argmax(dim=1)\n",
        "predicted_labels"
      ]
    },
    {
      "cell_type": "markdown",
      "metadata": {
        "id": "3PW1MJWNfrk3"
      },
      "source": [
        "**Note**: The classification head is randomly initialized, so these predictions are random. We must train the classification head to get reasonable results. Below we show a quick example of how we can fine-tune the classification head."
      ]
    },
    {
      "cell_type": "markdown",
      "metadata": {
        "id": "ZdqWKqNnfrk4"
      },
      "source": [
        "### 4.1 Classification Dataset\n",
        "\n",
        "For these experiments, we will use the EEG dataset\n"
      ]
    },
    {
      "cell_type": "code",
      "execution_count": null,
      "metadata": {
        "colab": {
          "base_uri": "https://localhost:8080/"
        },
        "id": "HyvXj9L7frk4",
        "outputId": "b7f5ac2a-e83c-4a68-be76-b262e0fb84e0"
      },
      "outputs": [
        {
          "name": "stdout",
          "output_type": "stream",
          "text": [
            "Shape of self.data: (8987, 14)\n",
            "Shape of self.data: (5992, 14)\n",
            "Train dataset size: 8987\n",
            "Test dataset size: 5992\n"
          ]
        }
      ],
      "source": [
        "from torch.utils.data import DataLoader\n",
        "from momentfm.data.classification_dataset import ClassificationDataset\n",
        "\n",
        "train_dataset = ClassificationDataset(data_split='train')\n",
        "test_dataset = ClassificationDataset(data_split='test')\n",
        "\n",
        "print(f\"Train dataset size: {len(train_dataset)}\")\n",
        "print(f\"Test dataset size: {len(test_dataset)}\")"
      ]
    },
    {
      "cell_type": "markdown",
      "metadata": {
        "id": "5IbdAzz3frk4"
      },
      "source": [
        "Now let's visualize the time series"
      ]
    },
    {
      "cell_type": "code",
      "execution_count": null,
      "metadata": {
        "colab": {
          "base_uri": "https://localhost:8080/",
          "height": 452
        },
        "id": "qatQyrqXfrk5",
        "outputId": "9f2a2ef6-f9ae-4644-9e8b-d17e87e3171d"
      },
      "outputs": [
        {
          "data": {
            "image/png": "[encoded data removed]",
            "text/plain": [
              "<Figure size 640x480 with 1 Axes>"
            ]
          },
          "metadata": {},
          "output_type": "display_data"
        }
      ],
      "source": [
        "import numpy as np\n",
        "import matplotlib.pyplot as plt\n",
        "\n",
        "idx = np.random.randint(0, len(train_dataset))\n",
        "heartbeat_start = np.argmax(train_dataset[idx][1])\n",
        "heartbeat = train_dataset[idx][0].squeeze()[heartbeat_start:]\n",
        "label = train_dataset[idx][2]\n",
        "plt.plot(heartbeat, c='darkblue')\n",
        "plt.title(f\"idx={idx} | label={label}\")\n",
        "plt.show()"
      ]
    },
    {
      "cell_type": "markdown",
      "metadata": {
        "id": "myMpePVOfrk5"
      },
      "source": [
        "### 4.2 Unsupervised Representation Learning using MOMENT\n",
        "\n",
        "\n",
        "Embed the train and test datasets!\n",
        "First, we will write a simple function `get_embedding` which will iterate over the training and testing datasets, and embed each time series. Then we will use the `fit_svm` function to fit a support vector machine (SVM) model using these embeddings as features and training labels."
      ]
    },
    {
      "cell_type": "code",
      "execution_count": null,
      "metadata": {
        "colab": {
          "base_uri": "https://localhost:8080/"
        },
        "id": "UWzrdQdffrk5",
        "outputId": "5532e735-78ca-4d73-a9bc-b8adffb9b470"
      },
      "outputs": [
        {
          "name": "stdout",
          "output_type": "stream",
          "text": [
            "141\n",
            "94\n"
          ]
        }
      ],
      "source": [
        "train_dataloader = DataLoader(train_dataset, batch_size=64, shuffle=False, drop_last=False)\n",
        "test_dataloader = DataLoader(test_dataset, batch_size=64, shuffle=False, drop_last=False)\n",
        "print(len(train_dataloader))\n",
        "print(len(test_dataloader))"
      ]
    },
    {
      "cell_type": "code",
      "execution_count": null,
      "metadata": {
        "id": "JGK7rFAqN1jm"
      },
      "outputs": [],
      "source": [
        "from tqdm import tqdm\n",
        "import torch\n",
        "import numpy as np\n",
        "\n",
        "def get_embedding(model, dataloader):\n",
        "    device = torch.device(\"cuda\" if torch.cuda.is_available() else \"cpu\")\n",
        "    model.to(device)\n",
        "\n",
        "    embeddings, labels = [], []\n",
        "    with torch.no_grad():\n",
        "        for batch_x, batch_masks, batch_labels in tqdm(dataloader, total=len(dataloader)):\n",
        "            batch_x = batch_x.to(device).float()\n",
        "            batch_masks = batch_masks.to(device)\n",
        "\n",
        "            output = model(batch_x, input_mask=batch_masks) # Assuming output is a custom object with 'embeddings' attribute\n",
        "            embedding = output.embeddings\n",
        "            embeddings.append(embedding.detach().cpu().numpy())  # Move to CPU and detach\n",
        "            labels.append(batch_labels.numpy())  # Convert to numpy array\n",
        "\n",
        "    embeddings = np.concatenate(embeddings)\n",
        "    labels = np.concatenate(labels)\n",
        "\n",
        "    return embeddings, labels\n"
      ]
    },
    {
      "cell_type": "markdown",
      "metadata": {
        "id": "ualQBk-Ifrk6"
      },
      "source": [
        "For unsupervised representation learning, MOMENT can be initialized in both `embedding` and `classification` mode.\n",
        "\n",
        "```python\n",
        "\n",
        "model = MOMENTPipeline.from_pretrained(\n",
        "    \"AutonLab/MOMENT-1-large\",\n",
        "    model_kwargs={'task_name': 'embedding'}, # We are loading the model in `embedding` mode\n",
        ")\n",
        "model.init()\n",
        "\n",
        "```"
      ]
    },
    {
      "cell_type": "code",
      "execution_count": null,
      "metadata": {
        "id": "44stiGwR3WGB"
      },
      "outputs": [],
      "source": [
        "model = MOMENTPipeline.from_pretrained(\n",
        "    \"AutonLab/MOMENT-1-large\",\n",
        "    model_kwargs={'task_name': 'embedding'}, # We are loading the model in `embedding` mode\n",
        ")\n",
        "model.init()"
      ]
    },
    {
      "cell_type": "code",
      "execution_count": null,
      "metadata": {
        "colab": {
          "background_save": true,
          "base_uri": "https://localhost:8080/"
        },
        "id": "Qci07eJefrk7",
        "outputId": "99e6f8e1-3abb-429f-a57d-8d9e8382e89d"
      },
      "outputs": [
        {
          "name": "stderr",
          "output_type": "stream",
          "text": [
            "100%|██████████| 141/141 [1:56:21<00:00, 49.51s/it]\n",
            "100%|██████████| 94/94 [1:16:52<00:00, 49.07s/it]"
          ]
        },
        {
          "name": "stdout",
          "output_type": "stream",
          "text": [
            "(8987, 1024) (8987,)\n",
            "(5992, 1024) (5992,)\n"
          ]
        },
        {
          "name": "stderr",
          "output_type": "stream",
          "text": [
            "\n"
          ]
        }
      ],
      "source": [
        "model.float()\n",
        "train_embeddings, train_labels = get_embedding(model, train_dataloader)\n",
        "test_embeddings, test_labels = get_embedding(model, test_dataloader)\n",
        "\n",
        "print(train_embeddings.shape, train_labels.shape)\n",
        "print(test_embeddings.shape, test_labels.shape)\n"
      ]
    },
    {
      "cell_type": "markdown",
      "metadata": {
        "id": "acv7zmdRfrk7"
      },
      "source": [
        "### 4.3 Learning a Statistical ML Classifier on MOMENT Embeddings"
      ]
    },
    {
      "cell_type": "code",
      "source": [
        "train_embeddings.shape"
      ],
      "metadata": {
        "colab": {
          "base_uri": "https://localhost:8080/"
        },
        "id": "EtIdIEtkQ69l",
        "outputId": "7675ff64-fc0e-43bf-a5ed-24fb50244012"
      },
      "execution_count": null,
      "outputs": [
        {
          "output_type": "execute_result",
          "data": {
            "text/plain": [
              "torch.Size([8987, 1024])"
            ]
          },
          "metadata": {},
          "execution_count": 25
        }
      ]
    },
    {
      "cell_type": "code",
      "source": [
        "from sklearn.svm import SVC\n",
        "from sklearn.metrics import accuracy_score\n",
        "\n",
        "# Create SVM classifier\n",
        "clf = SVC(kernel='linear')\n",
        "\n",
        "# Flatten embeddings if needed\n",
        "train_embeddings_flat = train_embeddings.reshape(train_embeddings.shape[0], -1)\n",
        "test_embeddings_flat = test_embeddings.reshape(test_embeddings.shape[0], -1)\n",
        "\n",
        "# Fit SVM on training data\n",
        "clf.fit(train_embeddings_flat, train_labels)\n",
        "\n",
        "# Predict on training and test data\n",
        "train_preds = clf.predict(train_embeddings_flat)\n",
        "test_preds = clf.predict(test_embeddings_flat)\n",
        "\n",
        "# Calculate accuracies\n",
        "train_accuracy = accuracy_score(train_labels, train_preds)\n",
        "test_accuracy = accuracy_score(test_labels, test_preds)\n",
        "\n",
        "print(f\"Train Accuracy: {train_accuracy:.4f}\")\n",
        "print(f\"Test Accuracy: {test_accuracy:.4f}\")\n"
      ],
      "metadata": {
        "colab": {
          "base_uri": "https://localhost:8080/"
        },
        "id": "d663dNaNTVRq",
        "outputId": "a2fa86bd-e927-475d-a9e2-30401bde4b1c"
      },
      "execution_count": null,
      "outputs": [
        {
          "output_type": "stream",
          "name": "stdout",
          "text": [
            "Train Accuracy: 0.7645\n",
            "Test Accuracy: 0.5706\n"
          ]
        }
      ]
    },
    {
      "cell_type": "markdown",
      "metadata": {
        "id": "P3dr7G0sfrk8"
      },
      "source": [
        "### 4.4 Visualize the Embeddings\n",
        "\n",
        "Next, let's visualize the embeddings that MOMENT is learning using Principal Component Analysis (PCA)"
      ]
    },
    {
      "cell_type": "code",
      "execution_count": null,
      "metadata": {
        "id": "uHaBWjrffrk8",
        "colab": {
          "base_uri": "https://localhost:8080/",
          "height": 466
        },
        "outputId": "eb6db748-6897-4209-fa7a-e3f9b3707357"
      },
      "outputs": [
        {
          "output_type": "display_data",
          "data": {
            "text/plain": [
              "<Figure size 640x480 with 1 Axes>"
            ],
            "image/png": "[encoded data removed]"
          },
          "metadata": {}
        }
      ],
      "source": [
        "from sklearn.decomposition import PCA\n",
        "\n",
        "test_embeddings_manifold = PCA(n_components=2).fit_transform(test_embeddings)\n",
        "\n",
        "plt.title(f\"EEG Test Embeddings\", fontsize=20)\n",
        "plt.scatter(\n",
        "    test_embeddings_manifold[:, 0],\n",
        "    test_embeddings_manifold[:, 1],\n",
        "    c=test_labels.squeeze()\n",
        ")\n",
        "plt.xticks(fontsize=16)\n",
        "plt.yticks(fontsize=16)\n",
        "plt.show()"
      ]
    }
  ],
  "metadata": {
    "colab": {
      "provenance": []
    },
    "kernelspec": {
      "display_name": "Python 3",
      "name": "python3"
    },
    "language_info": {
      "codemirror_mode": {
        "name": "ipython",
        "version": 3
      },
      "file_extension": ".py",
      "mimetype": "text/x-python",
      "name": "python",
      "nbconvert_exporter": "python",
      "pygments_lexer": "ipython3",
      "version": "3.11.5"
    },
    "widgets": {
      "application/vnd.jupyter.widget-state+json": {
        "12d668fa7ca54b29afa2c23ae4b0599f": {
          "model_module": "@jupyter-widgets/controls",
          "model_module_version": "1.5.0",
          "model_name": "DescriptionStyleModel",
          "state": {
            "_model_module": "@jupyter-widgets/controls",
            "_model_module_version": "1.5.0",
            "_model_name": "DescriptionStyleModel",
            "_view_count": null,
            "_view_module": "@jupyter-widgets/base",
            "_view_module_version": "1.2.0",
            "_view_name": "StyleView",
            "description_width": ""
          }
        },
        "15feb4a0493946d4ab54c8a84dd8ddce": {
          "model_module": "@jupyter-widgets/base",
          "model_module_version": "1.2.0",
          "model_name": "LayoutModel",
          "state": {
            "_model_module": "@jupyter-widgets/base",
            "_model_module_version": "1.2.0",
            "_model_name": "LayoutModel",
            "_view_count": null,
            "_view_module": "@jupyter-widgets/base",
            "_view_module_version": "1.2.0",
            "_view_name": "LayoutView",
            "align_content": null,
            "align_items": null,
            "align_self": null,
            "border": null,
            "bottom": null,
            "display": null,
            "flex": null,
            "flex_flow": null,
            "grid_area": null,
            "grid_auto_columns": null,
            "grid_auto_flow": null,
            "grid_auto_rows": null,
            "grid_column": null,
            "grid_gap": null,
            "grid_row": null,
            "grid_template_areas": null,
            "grid_template_columns": null,
            "grid_template_rows": null,
            "height": null,
            "justify_content": null,
            "justify_items": null,
            "left": null,
            "margin": null,
            "max_height": null,
            "max_width": null,
            "min_height": null,
            "min_width": null,
            "object_fit": null,
            "object_position": null,
            "order": null,
            "overflow": null,
            "overflow_x": null,
            "overflow_y": null,
            "padding": null,
            "right": null,
            "top": null,
            "visibility": null,
            "width": null
          }
        },
        "20353b8c70234d9ab7e6287372cc4b4c": {
          "model_module": "@jupyter-widgets/controls",
          "model_module_version": "1.5.0",
          "model_name": "HTMLModel",
          "state": {
            "_dom_classes": [],
            "_model_module": "@jupyter-widgets/controls",
            "_model_module_version": "1.5.0",
            "_model_name": "HTMLModel",
            "_view_count": null,
            "_view_module": "@jupyter-widgets/controls",
            "_view_module_version": "1.5.0",
            "_view_name": "HTMLView",
            "description": "",
            "description_tooltip": null,
            "layout": "IPY_MODEL_c89109156b5c457b908675319fcfebfc",
            "placeholder": "​",
            "style": "IPY_MODEL_6b1379a59f2243268e8aeaaf77acf349",
            "value": "model.safetensors: 100%"
          }
        },
        "2951ebfea803404f9d10e527afc6994c": {
          "model_module": "@jupyter-widgets/controls",
          "model_module_version": "1.5.0",
          "model_name": "HTMLModel",
          "state": {
            "_dom_classes": [],
            "_model_module": "@jupyter-widgets/controls",
            "_model_module_version": "1.5.0",
            "_model_name": "HTMLModel",
            "_view_count": null,
            "_view_module": "@jupyter-widgets/controls",
            "_view_module_version": "1.5.0",
            "_view_name": "HTMLView",
            "description": "",
            "description_tooltip": null,
            "layout": "IPY_MODEL_4717f8bf0fbe4bb5b5dd299f2061f4cd",
            "placeholder": "​",
            "style": "IPY_MODEL_12d668fa7ca54b29afa2c23ae4b0599f",
            "value": " 662/662 [00:00&lt;00:00, 34.0kB/s]"
          }
        },
        "29d96f0e0afa4a4cbd2ac83bc03dde4b": {
          "model_module": "@jupyter-widgets/controls",
          "model_module_version": "1.5.0",
          "model_name": "DescriptionStyleModel",
          "state": {
            "_model_module": "@jupyter-widgets/controls",
            "_model_module_version": "1.5.0",
            "_model_name": "DescriptionStyleModel",
            "_view_count": null,
            "_view_module": "@jupyter-widgets/base",
            "_view_module_version": "1.2.0",
            "_view_name": "StyleView",
            "description_width": ""
          }
        },
        "2f3045e261104ac287cda920b68689b5": {
          "model_module": "@jupyter-widgets/controls",
          "model_module_version": "1.5.0",
          "model_name": "FloatProgressModel",
          "state": {
            "_dom_classes": [],
            "_model_module": "@jupyter-widgets/controls",
            "_model_module_version": "1.5.0",
            "_model_name": "FloatProgressModel",
            "_view_count": null,
            "_view_module": "@jupyter-widgets/controls",
            "_view_module_version": "1.5.0",
            "_view_name": "ProgressView",
            "bar_style": "success",
            "description": "",
            "description_tooltip": null,
            "layout": "IPY_MODEL_c9c33d1b792042ee851ec52b67998b38",
            "max": 248,
            "min": 0,
            "orientation": "horizontal",
            "style": "IPY_MODEL_ab2ef306ea074c7cb4d1ec9b014d54e4",
            "value": 248
          }
        },
        "3278e723bd5c4b9e849467e5b7fde184": {
          "model_module": "@jupyter-widgets/controls",
          "model_module_version": "1.5.0",
          "model_name": "HTMLModel",
          "state": {
            "_dom_classes": [],
            "_model_module": "@jupyter-widgets/controls",
            "_model_module_version": "1.5.0",
            "_model_name": "HTMLModel",
            "_view_count": null,
            "_view_module": "@jupyter-widgets/controls",
            "_view_module_version": "1.5.0",
            "_view_name": "HTMLView",
            "description": "",
            "description_tooltip": null,
            "layout": "IPY_MODEL_861c80ee4507482d81645fa158c77531",
            "placeholder": "​",
            "style": "IPY_MODEL_b7b871b1b2e0477686797429db754933",
            "value": " 1.39G/1.39G [00:19&lt;00:00, 73.2MB/s]"
          }
        },
        "3916ab5165c44f5abb798acb4e8b5b84": {
          "model_module": "@jupyter-widgets/controls",
          "model_module_version": "1.5.0",
          "model_name": "ProgressStyleModel",
          "state": {
            "_model_module": "@jupyter-widgets/controls",
            "_model_module_version": "1.5.0",
            "_model_name": "ProgressStyleModel",
            "_view_count": null,
            "_view_module": "@jupyter-widgets/base",
            "_view_module_version": "1.2.0",
            "_view_name": "StyleView",
            "bar_color": null,
            "description_width": ""
          }
        },
        "416f7da2086e4b2bb284e6f83d3b48d3": {
          "model_module": "@jupyter-widgets/base",
          "model_module_version": "1.2.0",
          "model_name": "LayoutModel",
          "state": {
            "_model_module": "@jupyter-widgets/base",
            "_model_module_version": "1.2.0",
            "_model_name": "LayoutModel",
            "_view_count": null,
            "_view_module": "@jupyter-widgets/base",
            "_view_module_version": "1.2.0",
            "_view_name": "LayoutView",
            "align_content": null,
            "align_items": null,
            "align_self": null,
            "border": null,
            "bottom": null,
            "display": null,
            "flex": null,
            "flex_flow": null,
            "grid_area": null,
            "grid_auto_columns": null,
            "grid_auto_flow": null,
            "grid_auto_rows": null,
            "grid_column": null,
            "grid_gap": null,
            "grid_row": null,
            "grid_template_areas": null,
            "grid_template_columns": null,
            "grid_template_rows": null,
            "height": null,
            "justify_content": null,
            "justify_items": null,
            "left": null,
            "margin": null,
            "max_height": null,
            "max_width": null,
            "min_height": null,
            "min_width": null,
            "object_fit": null,
            "object_position": null,
            "order": null,
            "overflow": null,
            "overflow_x": null,
            "overflow_y": null,
            "padding": null,
            "right": null,
            "top": null,
            "visibility": null,
            "width": null
          }
        },
        "4717f8bf0fbe4bb5b5dd299f2061f4cd": {
          "model_module": "@jupyter-widgets/base",
          "model_module_version": "1.2.0",
          "model_name": "LayoutModel",
          "state": {
            "_model_module": "@jupyter-widgets/base",
            "_model_module_version": "1.2.0",
            "_model_name": "LayoutModel",
            "_view_count": null,
            "_view_module": "@jupyter-widgets/base",
            "_view_module_version": "1.2.0",
            "_view_name": "LayoutView",
            "align_content": null,
            "align_items": null,
            "align_self": null,
            "border": null,
            "bottom": null,
            "display": null,
            "flex": null,
            "flex_flow": null,
            "grid_area": null,
            "grid_auto_columns": null,
            "grid_auto_flow": null,
            "grid_auto_rows": null,
            "grid_column": null,
            "grid_gap": null,
            "grid_row": null,
            "grid_template_areas": null,
            "grid_template_columns": null,
            "grid_template_rows": null,
            "height": null,
            "justify_content": null,
            "justify_items": null,
            "left": null,
            "margin": null,
            "max_height": null,
            "max_width": null,
            "min_height": null,
            "min_width": null,
            "object_fit": null,
            "object_position": null,
            "order": null,
            "overflow": null,
            "overflow_x": null,
            "overflow_y": null,
            "padding": null,
            "right": null,
            "top": null,
            "visibility": null,
            "width": null
          }
        },
        "481e07e47ad0459a80da0e5eb2f62528": {
          "model_module": "@jupyter-widgets/controls",
          "model_module_version": "1.5.0",
          "model_name": "FloatProgressModel",
          "state": {
            "_dom_classes": [],
            "_model_module": "@jupyter-widgets/controls",
            "_model_module_version": "1.5.0",
            "_model_name": "FloatProgressModel",
            "_view_count": null,
            "_view_module": "@jupyter-widgets/controls",
            "_view_module_version": "1.5.0",
            "_view_name": "ProgressView",
            "bar_style": "success",
            "description": "",
            "description_tooltip": null,
            "layout": "IPY_MODEL_d4984c5aaea648b4a8dd7d6d5b9af022",
            "max": 1385575757,
            "min": 0,
            "orientation": "horizontal",
            "style": "IPY_MODEL_6a0ead797443456cbb19d4303109bd2b",
            "value": 1385575757
          }
        },
        "4868efb73a5048cfbdeb0bd2699c7321": {
          "model_module": "@jupyter-widgets/base",
          "model_module_version": "1.2.0",
          "model_name": "LayoutModel",
          "state": {
            "_model_module": "@jupyter-widgets/base",
            "_model_module_version": "1.2.0",
            "_model_name": "LayoutModel",
            "_view_count": null,
            "_view_module": "@jupyter-widgets/base",
            "_view_module_version": "1.2.0",
            "_view_name": "LayoutView",
            "align_content": null,
            "align_items": null,
            "align_self": null,
            "border": null,
            "bottom": null,
            "display": null,
            "flex": null,
            "flex_flow": null,
            "grid_area": null,
            "grid_auto_columns": null,
            "grid_auto_flow": null,
            "grid_auto_rows": null,
            "grid_column": null,
            "grid_gap": null,
            "grid_row": null,
            "grid_template_areas": null,
            "grid_template_columns": null,
            "grid_template_rows": null,
            "height": null,
            "justify_content": null,
            "justify_items": null,
            "left": null,
            "margin": null,
            "max_height": null,
            "max_width": null,
            "min_height": null,
            "min_width": null,
            "object_fit": null,
            "object_position": null,
            "order": null,
            "overflow": null,
            "overflow_x": null,
            "overflow_y": null,
            "padding": null,
            "right": null,
            "top": null,
            "visibility": null,
            "width": null
          }
        },
        "4c1d9d73183641e89263c320fd8cd24f": {
          "model_module": "@jupyter-widgets/base",
          "model_module_version": "1.2.0",
          "model_name": "LayoutModel",
          "state": {
            "_model_module": "@jupyter-widgets/base",
            "_model_module_version": "1.2.0",
            "_model_name": "LayoutModel",
            "_view_count": null,
            "_view_module": "@jupyter-widgets/base",
            "_view_module_version": "1.2.0",
            "_view_name": "LayoutView",
            "align_content": null,
            "align_items": null,
            "align_self": null,
            "border": null,
            "bottom": null,
            "display": null,
            "flex": null,
            "flex_flow": null,
            "grid_area": null,
            "grid_auto_columns": null,
            "grid_auto_flow": null,
            "grid_auto_rows": null,
            "grid_column": null,
            "grid_gap": null,
            "grid_row": null,
            "grid_template_areas": null,
            "grid_template_columns": null,
            "grid_template_rows": null,
            "height": null,
            "justify_content": null,
            "justify_items": null,
            "left": null,
            "margin": null,
            "max_height": null,
            "max_width": null,
            "min_height": null,
            "min_width": null,
            "object_fit": null,
            "object_position": null,
            "order": null,
            "overflow": null,
            "overflow_x": null,
            "overflow_y": null,
            "padding": null,
            "right": null,
            "top": null,
            "visibility": null,
            "width": null
          }
        },
        "4e7ec4e673c74a0f9d0fd5eb1e1a3ce8": {
          "model_module": "@jupyter-widgets/controls",
          "model_module_version": "1.5.0",
          "model_name": "DescriptionStyleModel",
          "state": {
            "_model_module": "@jupyter-widgets/controls",
            "_model_module_version": "1.5.0",
            "_model_name": "DescriptionStyleModel",
            "_view_count": null,
            "_view_module": "@jupyter-widgets/base",
            "_view_module_version": "1.2.0",
            "_view_name": "StyleView",
            "description_width": ""
          }
        },
        "66bd34ff190a41c9b084705af102d1a6": {
          "model_module": "@jupyter-widgets/base",
          "model_module_version": "1.2.0",
          "model_name": "LayoutModel",
          "state": {
            "_model_module": "@jupyter-widgets/base",
            "_model_module_version": "1.2.0",
            "_model_name": "LayoutModel",
            "_view_count": null,
            "_view_module": "@jupyter-widgets/base",
            "_view_module_version": "1.2.0",
            "_view_name": "LayoutView",
            "align_content": null,
            "align_items": null,
            "align_self": null,
            "border": null,
            "bottom": null,
            "display": null,
            "flex": null,
            "flex_flow": null,
            "grid_area": null,
            "grid_auto_columns": null,
            "grid_auto_flow": null,
            "grid_auto_rows": null,
            "grid_column": null,
            "grid_gap": null,
            "grid_row": null,
            "grid_template_areas": null,
            "grid_template_columns": null,
            "grid_template_rows": null,
            "height": null,
            "justify_content": null,
            "justify_items": null,
            "left": null,
            "margin": null,
            "max_height": null,
            "max_width": null,
            "min_height": null,
            "min_width": null,
            "object_fit": null,
            "object_position": null,
            "order": null,
            "overflow": null,
            "overflow_x": null,
            "overflow_y": null,
            "padding": null,
            "right": null,
            "top": null,
            "visibility": null,
            "width": null
          }
        },
        "6a0ead797443456cbb19d4303109bd2b": {
          "model_module": "@jupyter-widgets/controls",
          "model_module_version": "1.5.0",
          "model_name": "ProgressStyleModel",
          "state": {
            "_model_module": "@jupyter-widgets/controls",
            "_model_module_version": "1.5.0",
            "_model_name": "ProgressStyleModel",
            "_view_count": null,
            "_view_module": "@jupyter-widgets/base",
            "_view_module_version": "1.2.0",
            "_view_name": "StyleView",
            "bar_color": null,
            "description_width": ""
          }
        },
        "6b1379a59f2243268e8aeaaf77acf349": {
          "model_module": "@jupyter-widgets/controls",
          "model_module_version": "1.5.0",
          "model_name": "DescriptionStyleModel",
          "state": {
            "_model_module": "@jupyter-widgets/controls",
            "_model_module_version": "1.5.0",
            "_model_name": "DescriptionStyleModel",
            "_view_count": null,
            "_view_module": "@jupyter-widgets/base",
            "_view_module_version": "1.2.0",
            "_view_name": "StyleView",
            "description_width": ""
          }
        },
        "6c75b44999c04114bab33fdd5fb2268f": {
          "model_module": "@jupyter-widgets/controls",
          "model_module_version": "1.5.0",
          "model_name": "HBoxModel",
          "state": {
            "_dom_classes": [],
            "_model_module": "@jupyter-widgets/controls",
            "_model_module_version": "1.5.0",
            "_model_name": "HBoxModel",
            "_view_count": null,
            "_view_module": "@jupyter-widgets/controls",
            "_view_module_version": "1.5.0",
            "_view_name": "HBoxView",
            "box_style": "",
            "children": [
              "IPY_MODEL_c483c8a72a324bf7be5630b7d5b76eeb",
              "IPY_MODEL_e0f703aa78aa4b77a538099245fde4c5",
              "IPY_MODEL_2951ebfea803404f9d10e527afc6994c"
            ],
            "layout": "IPY_MODEL_15feb4a0493946d4ab54c8a84dd8ddce"
          }
        },
        "70c646d26b5e4a3ba525d6b427c6f0f1": {
          "model_module": "@jupyter-widgets/base",
          "model_module_version": "1.2.0",
          "model_name": "LayoutModel",
          "state": {
            "_model_module": "@jupyter-widgets/base",
            "_model_module_version": "1.2.0",
            "_model_name": "LayoutModel",
            "_view_count": null,
            "_view_module": "@jupyter-widgets/base",
            "_view_module_version": "1.2.0",
            "_view_name": "LayoutView",
            "align_content": null,
            "align_items": null,
            "align_self": null,
            "border": null,
            "bottom": null,
            "display": null,
            "flex": null,
            "flex_flow": null,
            "grid_area": null,
            "grid_auto_columns": null,
            "grid_auto_flow": null,
            "grid_auto_rows": null,
            "grid_column": null,
            "grid_gap": null,
            "grid_row": null,
            "grid_template_areas": null,
            "grid_template_columns": null,
            "grid_template_rows": null,
            "height": null,
            "justify_content": null,
            "justify_items": null,
            "left": null,
            "margin": null,
            "max_height": null,
            "max_width": null,
            "min_height": null,
            "min_width": null,
            "object_fit": null,
            "object_position": null,
            "order": null,
            "overflow": null,
            "overflow_x": null,
            "overflow_y": null,
            "padding": null,
            "right": null,
            "top": null,
            "visibility": null,
            "width": null
          }
        },
        "70ce96b34f8b492d982c016962ab8600": {
          "model_module": "@jupyter-widgets/base",
          "model_module_version": "1.2.0",
          "model_name": "LayoutModel",
          "state": {
            "_model_module": "@jupyter-widgets/base",
            "_model_module_version": "1.2.0",
            "_model_name": "LayoutModel",
            "_view_count": null,
            "_view_module": "@jupyter-widgets/base",
            "_view_module_version": "1.2.0",
            "_view_name": "LayoutView",
            "align_content": null,
            "align_items": null,
            "align_self": null,
            "border": null,
            "bottom": null,
            "display": null,
            "flex": null,
            "flex_flow": null,
            "grid_area": null,
            "grid_auto_columns": null,
            "grid_auto_flow": null,
            "grid_auto_rows": null,
            "grid_column": null,
            "grid_gap": null,
            "grid_row": null,
            "grid_template_areas": null,
            "grid_template_columns": null,
            "grid_template_rows": null,
            "height": null,
            "justify_content": null,
            "justify_items": null,
            "left": null,
            "margin": null,
            "max_height": null,
            "max_width": null,
            "min_height": null,
            "min_width": null,
            "object_fit": null,
            "object_position": null,
            "order": null,
            "overflow": null,
            "overflow_x": null,
            "overflow_y": null,
            "padding": null,
            "right": null,
            "top": null,
            "visibility": null,
            "width": null
          }
        },
        "770b544ecf414ed79a5b20dd0c6e7089": {
          "model_module": "@jupyter-widgets/controls",
          "model_module_version": "1.5.0",
          "model_name": "FloatProgressModel",
          "state": {
            "_dom_classes": [],
            "_model_module": "@jupyter-widgets/controls",
            "_model_module_version": "1.5.0",
            "_model_name": "FloatProgressModel",
            "_view_count": null,
            "_view_module": "@jupyter-widgets/controls",
            "_view_module_version": "1.5.0",
            "_view_name": "ProgressView",
            "bar_style": "success",
            "description": "",
            "description_tooltip": null,
            "layout": "IPY_MODEL_b9cc0aca91ae4d49ae3cef0357b4b26d",
            "max": 3132668804,
            "min": 0,
            "orientation": "horizontal",
            "style": "IPY_MODEL_3916ab5165c44f5abb798acb4e8b5b84",
            "value": 3132668804
          }
        },
        "861c80ee4507482d81645fa158c77531": {
          "model_module": "@jupyter-widgets/base",
          "model_module_version": "1.2.0",
          "model_name": "LayoutModel",
          "state": {
            "_model_module": "@jupyter-widgets/base",
            "_model_module_version": "1.2.0",
            "_model_name": "LayoutModel",
            "_view_count": null,
            "_view_module": "@jupyter-widgets/base",
            "_view_module_version": "1.2.0",
            "_view_name": "LayoutView",
            "align_content": null,
            "align_items": null,
            "align_self": null,
            "border": null,
            "bottom": null,
            "display": null,
            "flex": null,
            "flex_flow": null,
            "grid_area": null,
            "grid_auto_columns": null,
            "grid_auto_flow": null,
            "grid_auto_rows": null,
            "grid_column": null,
            "grid_gap": null,
            "grid_row": null,
            "grid_template_areas": null,
            "grid_template_columns": null,
            "grid_template_rows": null,
            "height": null,
            "justify_content": null,
            "justify_items": null,
            "left": null,
            "margin": null,
            "max_height": null,
            "max_width": null,
            "min_height": null,
            "min_width": null,
            "object_fit": null,
            "object_position": null,
            "order": null,
            "overflow": null,
            "overflow_x": null,
            "overflow_y": null,
            "padding": null,
            "right": null,
            "top": null,
            "visibility": null,
            "width": null
          }
        },
        "8824f22c2d42478b90666ab3f6d60f9c": {
          "model_module": "@jupyter-widgets/controls",
          "model_module_version": "1.5.0",
          "model_name": "HTMLModel",
          "state": {
            "_dom_classes": [],
            "_model_module": "@jupyter-widgets/controls",
            "_model_module_version": "1.5.0",
            "_model_name": "HTMLModel",
            "_view_count": null,
            "_view_module": "@jupyter-widgets/controls",
            "_view_module_version": "1.5.0",
            "_view_name": "HTMLView",
            "description": "",
            "description_tooltip": null,
            "layout": "IPY_MODEL_70ce96b34f8b492d982c016962ab8600",
            "placeholder": "​",
            "style": "IPY_MODEL_e8f5d9f9386b4bdcbaefe39094cbac2b",
            "value": " 3.13G/3.13G [00:53&lt;00:00, 62.1MB/s]"
          }
        },
        "93adef15a44c4024a64c4db5793a83f6": {
          "model_module": "@jupyter-widgets/controls",
          "model_module_version": "1.5.0",
          "model_name": "HBoxModel",
          "state": {
            "_dom_classes": [],
            "_model_module": "@jupyter-widgets/controls",
            "_model_module_version": "1.5.0",
            "_model_name": "HBoxModel",
            "_view_count": null,
            "_view_module": "@jupyter-widgets/controls",
            "_view_module_version": "1.5.0",
            "_view_name": "HBoxView",
            "box_style": "",
            "children": [
              "IPY_MODEL_20353b8c70234d9ab7e6287372cc4b4c",
              "IPY_MODEL_770b544ecf414ed79a5b20dd0c6e7089",
              "IPY_MODEL_8824f22c2d42478b90666ab3f6d60f9c"
            ],
            "layout": "IPY_MODEL_c82464d662a34c8faf2a0cd49d8b4b33"
          }
        },
        "9bbc4d289342486686ed9d34ea763e96": {
          "model_module": "@jupyter-widgets/base",
          "model_module_version": "1.2.0",
          "model_name": "LayoutModel",
          "state": {
            "_model_module": "@jupyter-widgets/base",
            "_model_module_version": "1.2.0",
            "_model_name": "LayoutModel",
            "_view_count": null,
            "_view_module": "@jupyter-widgets/base",
            "_view_module_version": "1.2.0",
            "_view_name": "LayoutView",
            "align_content": null,
            "align_items": null,
            "align_self": null,
            "border": null,
            "bottom": null,
            "display": null,
            "flex": null,
            "flex_flow": null,
            "grid_area": null,
            "grid_auto_columns": null,
            "grid_auto_flow": null,
            "grid_auto_rows": null,
            "grid_column": null,
            "grid_gap": null,
            "grid_row": null,
            "grid_template_areas": null,
            "grid_template_columns": null,
            "grid_template_rows": null,
            "height": null,
            "justify_content": null,
            "justify_items": null,
            "left": null,
            "margin": null,
            "max_height": null,
            "max_width": null,
            "min_height": null,
            "min_width": null,
            "object_fit": null,
            "object_position": null,
            "order": null,
            "overflow": null,
            "overflow_x": null,
            "overflow_y": null,
            "padding": null,
            "right": null,
            "top": null,
            "visibility": null,
            "width": null
          }
        },
        "ab2ef306ea074c7cb4d1ec9b014d54e4": {
          "model_module": "@jupyter-widgets/controls",
          "model_module_version": "1.5.0",
          "model_name": "ProgressStyleModel",
          "state": {
            "_model_module": "@jupyter-widgets/controls",
            "_model_module_version": "1.5.0",
            "_model_name": "ProgressStyleModel",
            "_view_count": null,
            "_view_module": "@jupyter-widgets/base",
            "_view_module_version": "1.2.0",
            "_view_name": "StyleView",
            "bar_color": null,
            "description_width": ""
          }
        },
        "b7b871b1b2e0477686797429db754933": {
          "model_module": "@jupyter-widgets/controls",
          "model_module_version": "1.5.0",
          "model_name": "DescriptionStyleModel",
          "state": {
            "_model_module": "@jupyter-widgets/controls",
            "_model_module_version": "1.5.0",
            "_model_name": "DescriptionStyleModel",
            "_view_count": null,
            "_view_module": "@jupyter-widgets/base",
            "_view_module_version": "1.2.0",
            "_view_name": "StyleView",
            "description_width": ""
          }
        },
        "b8b29c65c92148b5ac2709597c117f73": {
          "model_module": "@jupyter-widgets/controls",
          "model_module_version": "1.5.0",
          "model_name": "ProgressStyleModel",
          "state": {
            "_model_module": "@jupyter-widgets/controls",
            "_model_module_version": "1.5.0",
            "_model_name": "ProgressStyleModel",
            "_view_count": null,
            "_view_module": "@jupyter-widgets/base",
            "_view_module_version": "1.2.0",
            "_view_name": "StyleView",
            "bar_color": null,
            "description_width": ""
          }
        },
        "b92be520d8714c08aba317df4548c3bd": {
          "model_module": "@jupyter-widgets/controls",
          "model_module_version": "1.5.0",
          "model_name": "DescriptionStyleModel",
          "state": {
            "_model_module": "@jupyter-widgets/controls",
            "_model_module_version": "1.5.0",
            "_model_name": "DescriptionStyleModel",
            "_view_count": null,
            "_view_module": "@jupyter-widgets/base",
            "_view_module_version": "1.2.0",
            "_view_name": "StyleView",
            "description_width": ""
          }
        },
        "b9cc0aca91ae4d49ae3cef0357b4b26d": {
          "model_module": "@jupyter-widgets/base",
          "model_module_version": "1.2.0",
          "model_name": "LayoutModel",
          "state": {
            "_model_module": "@jupyter-widgets/base",
            "_model_module_version": "1.2.0",
            "_model_name": "LayoutModel",
            "_view_count": null,
            "_view_module": "@jupyter-widgets/base",
            "_view_module_version": "1.2.0",
            "_view_name": "LayoutView",
            "align_content": null,
            "align_items": null,
            "align_self": null,
            "border": null,
            "bottom": null,
            "display": null,
            "flex": null,
            "flex_flow": null,
            "grid_area": null,
            "grid_auto_columns": null,
            "grid_auto_flow": null,
            "grid_auto_rows": null,
            "grid_column": null,
            "grid_gap": null,
            "grid_row": null,
            "grid_template_areas": null,
            "grid_template_columns": null,
            "grid_template_rows": null,
            "height": null,
            "justify_content": null,
            "justify_items": null,
            "left": null,
            "margin": null,
            "max_height": null,
            "max_width": null,
            "min_height": null,
            "min_width": null,
            "object_fit": null,
            "object_position": null,
            "order": null,
            "overflow": null,
            "overflow_x": null,
            "overflow_y": null,
            "padding": null,
            "right": null,
            "top": null,
            "visibility": null,
            "width": null
          }
        },
        "c483c8a72a324bf7be5630b7d5b76eeb": {
          "model_module": "@jupyter-widgets/controls",
          "model_module_version": "1.5.0",
          "model_name": "HTMLModel",
          "state": {
            "_dom_classes": [],
            "_model_module": "@jupyter-widgets/controls",
            "_model_module_version": "1.5.0",
            "_model_name": "HTMLModel",
            "_view_count": null,
            "_view_module": "@jupyter-widgets/controls",
            "_view_module_version": "1.5.0",
            "_view_name": "HTMLView",
            "description": "",
            "description_tooltip": null,
            "layout": "IPY_MODEL_416f7da2086e4b2bb284e6f83d3b48d3",
            "placeholder": "​",
            "style": "IPY_MODEL_e977c1c05a16482498a0f2a6d4b4efd5",
            "value": "config.json: 100%"
          }
        },
        "c82464d662a34c8faf2a0cd49d8b4b33": {
          "model_module": "@jupyter-widgets/base",
          "model_module_version": "1.2.0",
          "model_name": "LayoutModel",
          "state": {
            "_model_module": "@jupyter-widgets/base",
            "_model_module_version": "1.2.0",
            "_model_name": "LayoutModel",
            "_view_count": null,
            "_view_module": "@jupyter-widgets/base",
            "_view_module_version": "1.2.0",
            "_view_name": "LayoutView",
            "align_content": null,
            "align_items": null,
            "align_self": null,
            "border": null,
            "bottom": null,
            "display": null,
            "flex": null,
            "flex_flow": null,
            "grid_area": null,
            "grid_auto_columns": null,
            "grid_auto_flow": null,
            "grid_auto_rows": null,
            "grid_column": null,
            "grid_gap": null,
            "grid_row": null,
            "grid_template_areas": null,
            "grid_template_columns": null,
            "grid_template_rows": null,
            "height": null,
            "justify_content": null,
            "justify_items": null,
            "left": null,
            "margin": null,
            "max_height": null,
            "max_width": null,
            "min_height": null,
            "min_width": null,
            "object_fit": null,
            "object_position": null,
            "order": null,
            "overflow": null,
            "overflow_x": null,
            "overflow_y": null,
            "padding": null,
            "right": null,
            "top": null,
            "visibility": null,
            "width": null
          }
        },
        "c89109156b5c457b908675319fcfebfc": {
          "model_module": "@jupyter-widgets/base",
          "model_module_version": "1.2.0",
          "model_name": "LayoutModel",
          "state": {
            "_model_module": "@jupyter-widgets/base",
            "_model_module_version": "1.2.0",
            "_model_name": "LayoutModel",
            "_view_count": null,
            "_view_module": "@jupyter-widgets/base",
            "_view_module_version": "1.2.0",
            "_view_name": "LayoutView",
            "align_content": null,
            "align_items": null,
            "align_self": null,
            "border": null,
            "bottom": null,
            "display": null,
            "flex": null,
            "flex_flow": null,
            "grid_area": null,
            "grid_auto_columns": null,
            "grid_auto_flow": null,
            "grid_auto_rows": null,
            "grid_column": null,
            "grid_gap": null,
            "grid_row": null,
            "grid_template_areas": null,
            "grid_template_columns": null,
            "grid_template_rows": null,
            "height": null,
            "justify_content": null,
            "justify_items": null,
            "left": null,
            "margin": null,
            "max_height": null,
            "max_width": null,
            "min_height": null,
            "min_width": null,
            "object_fit": null,
            "object_position": null,
            "order": null,
            "overflow": null,
            "overflow_x": null,
            "overflow_y": null,
            "padding": null,
            "right": null,
            "top": null,
            "visibility": null,
            "width": null
          }
        },
        "c9c33d1b792042ee851ec52b67998b38": {
          "model_module": "@jupyter-widgets/base",
          "model_module_version": "1.2.0",
          "model_name": "LayoutModel",
          "state": {
            "_model_module": "@jupyter-widgets/base",
            "_model_module_version": "1.2.0",
            "_model_name": "LayoutModel",
            "_view_count": null,
            "_view_module": "@jupyter-widgets/base",
            "_view_module_version": "1.2.0",
            "_view_name": "LayoutView",
            "align_content": null,
            "align_items": null,
            "align_self": null,
            "border": null,
            "bottom": null,
            "display": null,
            "flex": null,
            "flex_flow": null,
            "grid_area": null,
            "grid_auto_columns": null,
            "grid_auto_flow": null,
            "grid_auto_rows": null,
            "grid_column": null,
            "grid_gap": null,
            "grid_row": null,
            "grid_template_areas": null,
            "grid_template_columns": null,
            "grid_template_rows": null,
            "height": null,
            "justify_content": null,
            "justify_items": null,
            "left": null,
            "margin": null,
            "max_height": null,
            "max_width": null,
            "min_height": null,
            "min_width": null,
            "object_fit": null,
            "object_position": null,
            "order": null,
            "overflow": null,
            "overflow_x": null,
            "overflow_y": null,
            "padding": null,
            "right": null,
            "top": null,
            "visibility": null,
            "width": null
          }
        },
        "ccb66187647f4c44b7c15b7315049a64": {
          "model_module": "@jupyter-widgets/controls",
          "model_module_version": "1.5.0",
          "model_name": "HTMLModel",
          "state": {
            "_dom_classes": [],
            "_model_module": "@jupyter-widgets/controls",
            "_model_module_version": "1.5.0",
            "_model_name": "HTMLModel",
            "_view_count": null,
            "_view_module": "@jupyter-widgets/controls",
            "_view_module_version": "1.5.0",
            "_view_name": "HTMLView",
            "description": "",
            "description_tooltip": null,
            "layout": "IPY_MODEL_4c1d9d73183641e89263c320fd8cd24f",
            "placeholder": "​",
            "style": "IPY_MODEL_b92be520d8714c08aba317df4548c3bd",
            "value": "pytorch_model.bin: 100%"
          }
        },
        "cef5f3a9e0be4f3bb9c9e1d14d15f4b5": {
          "model_module": "@jupyter-widgets/controls",
          "model_module_version": "1.5.0",
          "model_name": "HBoxModel",
          "state": {
            "_dom_classes": [],
            "_model_module": "@jupyter-widgets/controls",
            "_model_module_version": "1.5.0",
            "_model_name": "HBoxModel",
            "_view_count": null,
            "_view_module": "@jupyter-widgets/controls",
            "_view_module_version": "1.5.0",
            "_view_name": "HBoxView",
            "box_style": "",
            "children": [
              "IPY_MODEL_ccb66187647f4c44b7c15b7315049a64",
              "IPY_MODEL_481e07e47ad0459a80da0e5eb2f62528",
              "IPY_MODEL_3278e723bd5c4b9e849467e5b7fde184"
            ],
            "layout": "IPY_MODEL_e5f61594ec9a4e11b6dd9d625bbc874b"
          }
        },
        "d4984c5aaea648b4a8dd7d6d5b9af022": {
          "model_module": "@jupyter-widgets/base",
          "model_module_version": "1.2.0",
          "model_name": "LayoutModel",
          "state": {
            "_model_module": "@jupyter-widgets/base",
            "_model_module_version": "1.2.0",
            "_model_name": "LayoutModel",
            "_view_count": null,
            "_view_module": "@jupyter-widgets/base",
            "_view_module_version": "1.2.0",
            "_view_name": "LayoutView",
            "align_content": null,
            "align_items": null,
            "align_self": null,
            "border": null,
            "bottom": null,
            "display": null,
            "flex": null,
            "flex_flow": null,
            "grid_area": null,
            "grid_auto_columns": null,
            "grid_auto_flow": null,
            "grid_auto_rows": null,
            "grid_column": null,
            "grid_gap": null,
            "grid_row": null,
            "grid_template_areas": null,
            "grid_template_columns": null,
            "grid_template_rows": null,
            "height": null,
            "justify_content": null,
            "justify_items": null,
            "left": null,
            "margin": null,
            "max_height": null,
            "max_width": null,
            "min_height": null,
            "min_width": null,
            "object_fit": null,
            "object_position": null,
            "order": null,
            "overflow": null,
            "overflow_x": null,
            "overflow_y": null,
            "padding": null,
            "right": null,
            "top": null,
            "visibility": null,
            "width": null
          }
        },
        "d7f367132f5b43cba30850a3e4c8d4e2": {
          "model_module": "@jupyter-widgets/controls",
          "model_module_version": "1.5.0",
          "model_name": "HBoxModel",
          "state": {
            "_dom_classes": [],
            "_model_module": "@jupyter-widgets/controls",
            "_model_module_version": "1.5.0",
            "_model_name": "HBoxModel",
            "_view_count": null,
            "_view_module": "@jupyter-widgets/controls",
            "_view_module_version": "1.5.0",
            "_view_name": "HBoxView",
            "box_style": "",
            "children": [
              "IPY_MODEL_ef1d44f085254b0293bed2a347e44864",
              "IPY_MODEL_2f3045e261104ac287cda920b68689b5",
              "IPY_MODEL_e90c45ce00fc4ad39a2bd5bd8b615bb1"
            ],
            "layout": "IPY_MODEL_70c646d26b5e4a3ba525d6b427c6f0f1"
          }
        },
        "e0f703aa78aa4b77a538099245fde4c5": {
          "model_module": "@jupyter-widgets/controls",
          "model_module_version": "1.5.0",
          "model_name": "FloatProgressModel",
          "state": {
            "_dom_classes": [],
            "_model_module": "@jupyter-widgets/controls",
            "_model_module_version": "1.5.0",
            "_model_name": "FloatProgressModel",
            "_view_count": null,
            "_view_module": "@jupyter-widgets/controls",
            "_view_module_version": "1.5.0",
            "_view_name": "ProgressView",
            "bar_style": "success",
            "description": "",
            "description_tooltip": null,
            "layout": "IPY_MODEL_4868efb73a5048cfbdeb0bd2699c7321",
            "max": 662,
            "min": 0,
            "orientation": "horizontal",
            "style": "IPY_MODEL_b8b29c65c92148b5ac2709597c117f73",
            "value": 662
          }
        },
        "e5f61594ec9a4e11b6dd9d625bbc874b": {
          "model_module": "@jupyter-widgets/base",
          "model_module_version": "1.2.0",
          "model_name": "LayoutModel",
          "state": {
            "_model_module": "@jupyter-widgets/base",
            "_model_module_version": "1.2.0",
            "_model_name": "LayoutModel",
            "_view_count": null,
            "_view_module": "@jupyter-widgets/base",
            "_view_module_version": "1.2.0",
            "_view_name": "LayoutView",
            "align_content": null,
            "align_items": null,
            "align_self": null,
            "border": null,
            "bottom": null,
            "display": null,
            "flex": null,
            "flex_flow": null,
            "grid_area": null,
            "grid_auto_columns": null,
            "grid_auto_flow": null,
            "grid_auto_rows": null,
            "grid_column": null,
            "grid_gap": null,
            "grid_row": null,
            "grid_template_areas": null,
            "grid_template_columns": null,
            "grid_template_rows": null,
            "height": null,
            "justify_content": null,
            "justify_items": null,
            "left": null,
            "margin": null,
            "max_height": null,
            "max_width": null,
            "min_height": null,
            "min_width": null,
            "object_fit": null,
            "object_position": null,
            "order": null,
            "overflow": null,
            "overflow_x": null,
            "overflow_y": null,
            "padding": null,
            "right": null,
            "top": null,
            "visibility": null,
            "width": null
          }
        },
        "e8f5d9f9386b4bdcbaefe39094cbac2b": {
          "model_module": "@jupyter-widgets/controls",
          "model_module_version": "1.5.0",
          "model_name": "DescriptionStyleModel",
          "state": {
            "_model_module": "@jupyter-widgets/controls",
            "_model_module_version": "1.5.0",
            "_model_name": "DescriptionStyleModel",
            "_view_count": null,
            "_view_module": "@jupyter-widgets/base",
            "_view_module_version": "1.2.0",
            "_view_name": "StyleView",
            "description_width": ""
          }
        },
        "e90c45ce00fc4ad39a2bd5bd8b615bb1": {
          "model_module": "@jupyter-widgets/controls",
          "model_module_version": "1.5.0",
          "model_name": "HTMLModel",
          "state": {
            "_dom_classes": [],
            "_model_module": "@jupyter-widgets/controls",
            "_model_module_version": "1.5.0",
            "_model_name": "HTMLModel",
            "_view_count": null,
            "_view_module": "@jupyter-widgets/controls",
            "_view_module_version": "1.5.0",
            "_view_name": "HTMLView",
            "description": "",
            "description_tooltip": null,
            "layout": "IPY_MODEL_9bbc4d289342486686ed9d34ea763e96",
            "placeholder": "​",
            "style": "IPY_MODEL_4e7ec4e673c74a0f9d0fd5eb1e1a3ce8",
            "value": " 248/248 [00:00&lt;00:00, 3.44kB/s]"
          }
        },
        "e977c1c05a16482498a0f2a6d4b4efd5": {
          "model_module": "@jupyter-widgets/controls",
          "model_module_version": "1.5.0",
          "model_name": "DescriptionStyleModel",
          "state": {
            "_model_module": "@jupyter-widgets/controls",
            "_model_module_version": "1.5.0",
            "_model_name": "DescriptionStyleModel",
            "_view_count": null,
            "_view_module": "@jupyter-widgets/base",
            "_view_module_version": "1.2.0",
            "_view_name": "StyleView",
            "description_width": ""
          }
        },
        "ef1d44f085254b0293bed2a347e44864": {
          "model_module": "@jupyter-widgets/controls",
          "model_module_version": "1.5.0",
          "model_name": "HTMLModel",
          "state": {
            "_dom_classes": [],
            "_model_module": "@jupyter-widgets/controls",
            "_model_module_version": "1.5.0",
            "_model_name": "HTMLModel",
            "_view_count": null,
            "_view_module": "@jupyter-widgets/controls",
            "_view_module_version": "1.5.0",
            "_view_name": "HTMLView",
            "description": "",
            "description_tooltip": null,
            "layout": "IPY_MODEL_66bd34ff190a41c9b084705af102d1a6",
            "placeholder": "​",
            "style": "IPY_MODEL_29d96f0e0afa4a4cbd2ac83bc03dde4b",
            "value": "config.json: 100%"
          }
        }
      }
    }
  },
  "nbformat": 4,
  "nbformat_minor": 0
}